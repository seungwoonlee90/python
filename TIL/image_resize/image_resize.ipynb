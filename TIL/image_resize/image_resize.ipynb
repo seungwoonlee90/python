{
 "cells": [
  {
   "cell_type": "markdown",
   "metadata": {},
   "source": [
    "### 이미지 사이즈 변경하기\n",
    "\n",
    "#### 0. 개요\n",
    "📌폴더 내 이미지를 리사이징 하기\n",
    "\n",
    "#### 1. 라이브러리 불러오기\n",
    "- 이미지 처리에 필요한 파이썬 라이브러리 불러오기"
   ]
  },
  {
   "cell_type": "code",
   "execution_count": 1,
   "metadata": {},
   "outputs": [],
   "source": [
    "from PIL import Image\n",
    "import os"
   ]
  },
  {
   "cell_type": "markdown",
   "metadata": {},
   "source": [
    "#### 2. 폴더 내 이미지 파일 불러오기\n",
    "- 이미지가 담겨 있는 폴더 경고를 입력하여, 폴더내 이미지 리스트 불러오기"
   ]
  },
  {
   "cell_type": "code",
   "execution_count": 2,
   "metadata": {},
   "outputs": [
    {
     "data": {
      "text/plain": [
       "['image.jpg']"
      ]
     },
     "execution_count": 2,
     "metadata": {},
     "output_type": "execute_result"
    }
   ],
   "source": [
    "images = os.listdir('images')\n",
    "images"
   ]
  },
  {
   "cell_type": "markdown",
   "metadata": {},
   "source": [
    "![origin_images](images/image.jpg)"
   ]
  },
  {
   "cell_type": "markdown",
   "metadata": {},
   "source": [
    "#### 3. 폴더 내 이미지 사이즈 변경\n",
    "- resize : 폴더 내 모든 이미지를 500 x 500 사이즈로 변경\n",
    "- thumbnail : 폴더 내 모든 이미지를 종회비 유지하며 사이즈 변경"
   ]
  },
  {
   "cell_type": "code",
   "execution_count": 3,
   "metadata": {},
   "outputs": [],
   "source": [
    "for i in images :\n",
    "    j = 'images/' + i\n",
    "    img = Image.open(j)\n",
    "    img.thumbnail( (300, 500) )\n",
    "    img.save(f'images/new_{i}')"
   ]
  },
  {
   "cell_type": "markdown",
   "metadata": {},
   "source": [
    "![new_images](images/new_image.jpg)"
   ]
  }
 ],
 "metadata": {
  "kernelspec": {
   "display_name": "Python 3",
   "language": "python",
   "name": "python3"
  },
  "language_info": {
   "codemirror_mode": {
    "name": "ipython",
    "version": 3
   },
   "file_extension": ".py",
   "mimetype": "text/x-python",
   "name": "python",
   "nbconvert_exporter": "python",
   "pygments_lexer": "ipython3",
   "version": "3.8.3"
  }
 },
 "nbformat": 4,
 "nbformat_minor": 4
}
