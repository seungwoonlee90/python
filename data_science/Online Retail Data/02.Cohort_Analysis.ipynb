{
 "cells": [
  {
   "cell_type": "code",
   "execution_count": 1,
   "id": "f51f95bf",
   "metadata": {},
   "outputs": [],
   "source": [
    "import pandas as pd\n",
    "import numpy as np"
   ]
  },
  {
   "cell_type": "code",
   "execution_count": null,
   "id": "32ae4cfd",
   "metadata": {},
   "outputs": [],
   "source": [
    "df = pd.read_excel('https://archive.ics.uci.edu/ml/machine-learning-databases/00352/Online%20Retail.xlsx')"
   ]
  },
  {
   "cell_type": "markdown",
   "id": "96ddc4f8",
   "metadata": {},
   "source": [
    "### 데이터 전처리"
   ]
  },
  {
   "cell_type": "code",
   "execution_count": null,
   "id": "2d3a19c7",
   "metadata": {},
   "outputs": [],
   "source": [
    "df = df[df['CustomerID'].notnull()].reset_index(drop=True).copy()\n",
    "df['CustomerID'] = df['CustomerID'].astype(int)\n",
    "df = df[df['Quantity'] > 0 ].reset_index(drop=True).copy()\n",
    "df = df[df['UnitPrice'] > 0 ].reset_index(drop=True).copy()"
   ]
  },
  {
   "cell_type": "markdown",
   "id": "3be3c9a1",
   "metadata": {},
   "source": [
    "### 사용자 Retention 분석\n",
    "- cohort : 특정기간동안 특정경험을 하는 사용자 그룹"
   ]
  },
  {
   "cell_type": "code",
   "execution_count": null,
   "id": "0618e8f9",
   "metadata": {},
   "outputs": [],
   "source": [
    "from datetime import datetime\n",
    "\n",
    "df['Month'] = df['InvoiceDate'].apply(lambda x : datetime(x.year, x.month, 1))"
   ]
  },
  {
   "cell_type": "code",
   "execution_count": null,
   "id": "83124635",
   "metadata": {},
   "outputs": [],
   "source": [
    "df['MonthStarted'] = df.groupby(['CustomerID'])['Month'].transform(np.min)"
   ]
  },
  {
   "cell_type": "code",
   "execution_count": null,
   "id": "16c22d5f",
   "metadata": {},
   "outputs": [],
   "source": [
    "df.head()"
   ]
  },
  {
   "cell_type": "code",
   "execution_count": null,
   "id": "9c50bc06",
   "metadata": {},
   "outputs": [],
   "source": [
    "df['MonthPassed'] = (df['Month'].dt.year - df['MonthStarted'].dt.year) * 12  + (df['Month'].dt.month - df['MonthStarted'].dt.month)"
   ]
  },
  {
   "cell_type": "code",
   "execution_count": null,
   "id": "0eac17d6",
   "metadata": {},
   "outputs": [],
   "source": [
    "df.tail()"
   ]
  },
  {
   "cell_type": "code",
   "execution_count": null,
   "id": "fe8ae7b1",
   "metadata": {},
   "outputs": [],
   "source": [
    "cohort = df.groupby(['MonthStarted', 'MonthPassed'])['CustomerID'].apply(lambda x : len(np.unique(x))).reset_index()"
   ]
  },
  {
   "cell_type": "code",
   "execution_count": null,
   "id": "2d49f564",
   "metadata": {},
   "outputs": [],
   "source": [
    "cohort.head()"
   ]
  },
  {
   "cell_type": "code",
   "execution_count": null,
   "id": "18db774d",
   "metadata": {},
   "outputs": [],
   "source": [
    "cohort = cohort.pivot(index='MonthStarted', columns='MonthPassed')"
   ]
  },
  {
   "cell_type": "code",
   "execution_count": null,
   "id": "913adde4",
   "metadata": {},
   "outputs": [],
   "source": [
    "cohort"
   ]
  },
  {
   "cell_type": "markdown",
   "id": "f0c7b0f6",
   "metadata": {},
   "source": [
    "### 재구매율이 떨어지거나 올라간 이유 현상 분석 필요"
   ]
  },
  {
   "cell_type": "code",
   "execution_count": null,
   "id": "90dd19b5",
   "metadata": {},
   "outputs": [],
   "source": [
    "cohort = round(cohort.div(cohort.iloc[:, 0], axis=0) * 100,2)\n",
    "cohort"
   ]
  },
  {
   "cell_type": "markdown",
   "id": "c956b4cc",
   "metadata": {},
   "source": [
    "### Heatmap 시각화"
   ]
  },
  {
   "cell_type": "code",
   "execution_count": null,
   "id": "d6498cd7",
   "metadata": {},
   "outputs": [],
   "source": [
    "import seaborn as sns\n",
    "import matplotlib.pyplot as plt\n",
    "plt.style.use('seaborn-poster')"
   ]
  },
  {
   "cell_type": "code",
   "execution_count": null,
   "id": "f0ae95b2",
   "metadata": {},
   "outputs": [],
   "source": [
    "fig, ax = plt.subplots(figsize=(16,10))\n",
    "sns.heatmap(cohort,\n",
    "            xticklabels = np.arange(0,13),\n",
    "            yticklabels = [201012, 201101, 201102, 201103, 201104, 201105, 201106,\n",
    "                           201107, 201108, 201109, 201110, 201111,201112],\n",
    "           annot=True,\n",
    "           fmt='.1f',\n",
    "           ax=ax,\n",
    "           cmap='YlGnBu')\n",
    "\n",
    "plt.xlabel('MonthPassed')\n",
    "plt.show()"
   ]
  },
  {
   "cell_type": "code",
   "execution_count": null,
   "id": "5e63f814",
   "metadata": {},
   "outputs": [],
   "source": []
  }
 ],
 "metadata": {
  "kernelspec": {
   "display_name": "Python 3 (ipykernel)",
   "language": "python",
   "name": "python3"
  },
  "language_info": {
   "codemirror_mode": {
    "name": "ipython",
    "version": 3
   },
   "file_extension": ".py",
   "mimetype": "text/x-python",
   "name": "python",
   "nbconvert_exporter": "python",
   "pygments_lexer": "ipython3",
   "version": "3.9.7"
  }
 },
 "nbformat": 4,
 "nbformat_minor": 5
}
