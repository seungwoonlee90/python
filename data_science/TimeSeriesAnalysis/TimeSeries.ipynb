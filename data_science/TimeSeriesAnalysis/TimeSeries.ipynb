{
 "cells": [
  {
   "cell_type": "markdown",
   "metadata": {},
   "source": [
    "## 1. 학습방향\n",
    "\n",
    "1. 문제가 어디에 속하는지 → 분석기획\n",
    "2. 알고리즘마다 입력은 무엇인지 → 데이터 전처리(준비)\n",
    "3. 알고리즘마다 출력은 무엇인지 → 결과해석(설명/검증)"
   ]
  },
  {
   "cell_type": "markdown",
   "metadata": {},
   "source": [
    "## 2. 시계열 성분\n",
    "\n",
    "1. 빈도\n",
    "    - 계절성 패턴이 나타나기 전까지의 데이터의 갯수로 사람이 정해야 함\n",
    "    - 예시 : 계절성이 1년에 1회 나타날 경우, 연도 데이터의 빈도는 1, 분기는 4, 월은 12, 주는 52"
   ]
  },
  {
   "cell_type": "markdown",
   "metadata": {},
   "source": [
    "2. 추세\n",
    "    - 시계열이 시간에 따라 증가, 감소 또는 일정 수준을 유지하는 경우"
   ]
  },
  {
   "cell_type": "markdown",
   "metadata": {},
   "source": [
    "3. 계절성\n",
    "    - 일정한 빈도로 주기적으로 반복되는 패턴, 특정한 달/요일에 따라 기대값이 달라지는 것"
   ]
  },
  {
   "cell_type": "markdown",
   "metadata": {},
   "source": [
    "4. 주기\n",
    "    - 일정하지 않은 빈도로 발생하는 패턴(계절성)"
   ]
  }
 ],
 "metadata": {
  "kernelspec": {
   "display_name": "Python 3",
   "language": "python",
   "name": "python3"
  },
  "language_info": {
   "codemirror_mode": {
    "name": "ipython",
    "version": 3
   },
   "file_extension": ".py",
   "mimetype": "text/x-python",
   "name": "python",
   "nbconvert_exporter": "python",
   "pygments_lexer": "ipython3",
   "version": "3.8.3"
  }
 },
 "nbformat": 4,
 "nbformat_minor": 4
}
