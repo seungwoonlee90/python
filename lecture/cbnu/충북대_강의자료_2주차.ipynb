{
 "cells": [
  {
   "cell_type": "code",
   "execution_count": null,
   "metadata": {
    "id": "ZwbPeUTbyaGj"
   },
   "outputs": [],
   "source": [
    "import pandas as pd"
   ]
  },
  {
   "cell_type": "code",
   "execution_count": null,
   "metadata": {
    "id": "RfX6tUk6iT6m"
   },
   "outputs": [],
   "source": [
    "fruits = ['apple', 'banana', 'grape']"
   ]
  },
  {
   "cell_type": "code",
   "execution_count": null,
   "metadata": {
    "colab": {
     "base_uri": "https://localhost:8080/"
    },
    "id": "Gwjdl_FMiUhv",
    "outputId": "b5be37ff-5a8d-43e2-f0d3-09a5e59ac8d3"
   },
   "outputs": [
    {
     "name": "stdout",
     "output_type": "stream",
     "text": [
      "apple\n",
      "banana\n",
      "grape\n"
     ]
    }
   ],
   "source": [
    "for fruit in fruits :\n",
    "    print(fruit)"
   ]
  },
  {
   "cell_type": "code",
   "execution_count": null,
   "metadata": {
    "colab": {
     "base_uri": "https://localhost:8080/"
    },
    "id": "uDejrbHRibe1",
    "outputId": "11214879-71ff-439d-fc4c-fba1c17b683e"
   },
   "outputs": [
    {
     "name": "stdout",
     "output_type": "stream",
     "text": [
      "grape\n",
      "banana\n",
      "apple\n"
     ]
    }
   ],
   "source": [
    "for fruit in reversed(fruits) :\n",
    "    print(fruit)"
   ]
  },
  {
   "cell_type": "code",
   "execution_count": null,
   "metadata": {
    "colab": {
     "base_uri": "https://localhost:8080/"
    },
    "id": "WyB_yiksbbba",
    "outputId": "badf89b5-bbd9-42a3-d798-7057801e42c8"
   },
   "outputs": [
    {
     "name": "stdout",
     "output_type": "stream",
     "text": [
      "0\n",
      "1\n",
      "2\n",
      "3\n",
      "4\n"
     ]
    }
   ],
   "source": [
    "for i in range(5) :\n",
    "    print(i)"
   ]
  },
  {
   "cell_type": "code",
   "execution_count": null,
   "metadata": {
    "colab": {
     "base_uri": "https://localhost:8080/"
    },
    "id": "UkZ68QOmb_fp",
    "outputId": "c81aab0a-aa6e-422d-e954-1efb944b1e96"
   },
   "outputs": [
    {
     "name": "stdout",
     "output_type": "stream",
     "text": [
      "2\n",
      "3\n",
      "4\n"
     ]
    }
   ],
   "source": [
    "for i in range(2, 5) :\n",
    "    print(i)"
   ]
  },
  {
   "cell_type": "code",
   "execution_count": null,
   "metadata": {
    "colab": {
     "base_uri": "https://localhost:8080/"
    },
    "id": "TIMVOouAcqIR",
    "outputId": "4d7370db-306d-4014-e51f-77e3996e6c73"
   },
   "outputs": [
    {
     "name": "stdout",
     "output_type": "stream",
     "text": [
      "4\n",
      "9\n",
      "16\n"
     ]
    }
   ],
   "source": [
    "for i in range(2, 5) :\n",
    "    print(i * i)"
   ]
  },
  {
   "cell_type": "code",
   "execution_count": null,
   "metadata": {
    "colab": {
     "base_uri": "https://localhost:8080/"
    },
    "id": "KPvrtaztcIcp",
    "outputId": "48204b9a-f65e-4edf-b70e-98dc109864a2"
   },
   "outputs": [
    {
     "name": "stdout",
     "output_type": "stream",
     "text": [
      "4\n",
      "9\n",
      "16\n"
     ]
    }
   ],
   "source": [
    "for i in range(2, 5) :\n",
    "    j = i * i\n",
    "    print(j)"
   ]
  },
  {
   "cell_type": "code",
   "execution_count": null,
   "metadata": {
    "colab": {
     "base_uri": "https://localhost:8080/"
    },
    "id": "HhQaxxjMchio",
    "outputId": "3e470ebd-6f3e-4abc-a7a4-e12f8555f36e"
   },
   "outputs": [
    {
     "name": "stdout",
     "output_type": "stream",
     "text": [
      "2\n",
      "4\n",
      "6\n",
      "8\n",
      "10\n",
      "12\n",
      "14\n",
      "16\n",
      "18\n"
     ]
    }
   ],
   "source": [
    "for i in range(1, 10) :\n",
    "    j = 2 * i\n",
    "    print(j)"
   ]
  },
  {
   "cell_type": "code",
   "execution_count": null,
   "metadata": {
    "colab": {
     "base_uri": "https://localhost:8080/"
    },
    "id": "uS_z3cmucSeg",
    "outputId": "6a8cac13-061f-4522-a0ba-866d813ad5c4"
   },
   "outputs": [
    {
     "name": "stdout",
     "output_type": "stream",
     "text": [
      "2 * 1 = 2\n",
      "2 * 2 = 4\n",
      "2 * 3 = 6\n",
      "2 * 4 = 8\n",
      "2 * 5 = 10\n",
      "2 * 6 = 12\n",
      "2 * 7 = 14\n",
      "2 * 8 = 16\n",
      "2 * 9 = 18\n"
     ]
    }
   ],
   "source": [
    "for i in range(1, 10) :\n",
    "    j = 2 * i\n",
    "    print(f'2 * {i} =', j)"
   ]
  },
  {
   "cell_type": "markdown",
   "metadata": {
    "id": "eX60zhZdsjwT"
   },
   "source": [
    "2. List and Dict"
   ]
  },
  {
   "cell_type": "code",
   "execution_count": null,
   "metadata": {
    "id": "PLqwCBoZbbdk"
   },
   "outputs": [],
   "source": [
    "fruits = ['apple', 'banana', 'grape']"
   ]
  },
  {
   "cell_type": "code",
   "execution_count": null,
   "metadata": {
    "colab": {
     "base_uri": "https://localhost:8080/",
     "height": 35
    },
    "id": "xOFchA7Lo2IM",
    "outputId": "7158f860-bc90-435e-bd46-b8f9a42111d2"
   },
   "outputs": [
    {
     "data": {
      "application/vnd.google.colaboratory.intrinsic+json": {
       "type": "string"
      },
      "text/plain": [
       "'apple'"
      ]
     },
     "execution_count": 3,
     "metadata": {
      "tags": []
     },
     "output_type": "execute_result"
    }
   ],
   "source": [
    "fruits[0]"
   ]
  },
  {
   "cell_type": "code",
   "execution_count": null,
   "metadata": {
    "id": "DzAeSaiW7-VG"
   },
   "outputs": [],
   "source": [
    "fruits.append('kiwi')"
   ]
  },
  {
   "cell_type": "code",
   "execution_count": null,
   "metadata": {
    "colab": {
     "base_uri": "https://localhost:8080/"
    },
    "id": "um47OZDt8INP",
    "outputId": "27e80b48-2aef-43e2-ab31-25905b2d5627"
   },
   "outputs": [
    {
     "data": {
      "text/plain": [
       "['apple', 'banana', 'grape', 'kiwi']"
      ]
     },
     "execution_count": 5,
     "metadata": {
      "tags": []
     },
     "output_type": "execute_result"
    }
   ],
   "source": [
    "fruits"
   ]
  },
  {
   "cell_type": "code",
   "execution_count": null,
   "metadata": {
    "id": "hbcqom_48Oy8"
   },
   "outputs": [],
   "source": [
    "fruits.remove('kiwi')"
   ]
  },
  {
   "cell_type": "code",
   "execution_count": null,
   "metadata": {
    "colab": {
     "base_uri": "https://localhost:8080/"
    },
    "id": "ei8skbjJ8RIU",
    "outputId": "7141d264-54ac-4976-dde8-7437c6934cab"
   },
   "outputs": [
    {
     "data": {
      "text/plain": [
       "['apple', 'banana', 'grape']"
      ]
     },
     "execution_count": 8,
     "metadata": {
      "tags": []
     },
     "output_type": "execute_result"
    }
   ],
   "source": [
    "fruits"
   ]
  },
  {
   "cell_type": "code",
   "execution_count": null,
   "metadata": {
    "colab": {
     "base_uri": "https://localhost:8080/"
    },
    "id": "XKJEQgJ-vJZt",
    "outputId": "9eb76e53-9a8f-440b-ceb4-176a6c62c3d3"
   },
   "outputs": [
    {
     "data": {
      "text/plain": [
       "4"
      ]
     },
     "execution_count": 6,
     "metadata": {
      "tags": []
     },
     "output_type": "execute_result"
    }
   ],
   "source": [
    "len(fruits)"
   ]
  },
  {
   "cell_type": "code",
   "execution_count": null,
   "metadata": {
    "id": "Jpg2mKCVorx7"
   },
   "outputs": [],
   "source": [
    "fruits_dic = {'apple' : 'red', 'banana' : 'yellow', 'grape' : 'purple'}"
   ]
  },
  {
   "cell_type": "code",
   "execution_count": null,
   "metadata": {
    "colab": {
     "base_uri": "https://localhost:8080/",
     "height": 164
    },
    "id": "uhxGlP3Cx3cg",
    "outputId": "ff86f6a6-a7e4-492f-bb40-127ea2fee9c9"
   },
   "outputs": [
    {
     "ename": "KeyError",
     "evalue": "ignored",
     "output_type": "error",
     "traceback": [
      "\u001b[0;31m---------------------------------------------------------------------------\u001b[0m",
      "\u001b[0;31mKeyError\u001b[0m                                  Traceback (most recent call last)",
      "\u001b[0;32m<ipython-input-15-17ad2adffbcd>\u001b[0m in \u001b[0;36m<module>\u001b[0;34m()\u001b[0m\n\u001b[0;32m----> 1\u001b[0;31m \u001b[0mfruits_dic\u001b[0m\u001b[0;34m[\u001b[0m\u001b[0;36m0\u001b[0m\u001b[0;34m]\u001b[0m\u001b[0;34m\u001b[0m\u001b[0;34m\u001b[0m\u001b[0m\n\u001b[0m",
      "\u001b[0;31mKeyError\u001b[0m: 0"
     ]
    }
   ],
   "source": [
    "fruits_dic[0]"
   ]
  },
  {
   "cell_type": "code",
   "execution_count": null,
   "metadata": {
    "colab": {
     "base_uri": "https://localhost:8080/",
     "height": 35
    },
    "id": "Dmvbw9epbzjw",
    "outputId": "adca6d1e-dfd6-427a-9ee0-fe912cdb18ee"
   },
   "outputs": [
    {
     "data": {
      "application/vnd.google.colaboratory.intrinsic+json": {
       "type": "string"
      },
      "text/plain": [
       "'red'"
      ]
     },
     "execution_count": 16,
     "metadata": {
      "tags": []
     },
     "output_type": "execute_result"
    }
   ],
   "source": [
    "fruits_dic['apple']"
   ]
  },
  {
   "cell_type": "code",
   "execution_count": null,
   "metadata": {
    "colab": {
     "base_uri": "https://localhost:8080/",
     "height": 130
    },
    "id": "BcJalVKi8WEB",
    "outputId": "c5158b04-0537-47f3-e9d5-87ae9608f68e"
   },
   "outputs": [
    {
     "ename": "SyntaxError",
     "evalue": "ignored",
     "output_type": "error",
     "traceback": [
      "\u001b[0;36m  File \u001b[0;32m\"<ipython-input-10-068498817763>\"\u001b[0;36m, line \u001b[0;32m1\u001b[0m\n\u001b[0;31m    fruits_dic.append('melon' : 'green')\u001b[0m\n\u001b[0m                              ^\u001b[0m\n\u001b[0;31mSyntaxError\u001b[0m\u001b[0;31m:\u001b[0m invalid syntax\n"
     ]
    }
   ],
   "source": [
    "fruits_dic.append('melon' : 'green')"
   ]
  },
  {
   "cell_type": "code",
   "execution_count": null,
   "metadata": {
    "id": "OHla8eBk9Cri"
   },
   "outputs": [],
   "source": [
    "fruits_dic['melon'] = 'green'"
   ]
  },
  {
   "cell_type": "code",
   "execution_count": null,
   "metadata": {
    "colab": {
     "base_uri": "https://localhost:8080/"
    },
    "id": "dhj070PB9G72",
    "outputId": "426f4d57-de20-4637-f054-461e2c9fd616"
   },
   "outputs": [
    {
     "data": {
      "text/plain": [
       "{'apple': 'red', 'banana': 'yellow', 'grape': 'purple', 'melon': 'green'}"
      ]
     },
     "execution_count": 12,
     "metadata": {
      "tags": []
     },
     "output_type": "execute_result"
    }
   ],
   "source": [
    "fruits_dic"
   ]
  },
  {
   "cell_type": "code",
   "execution_count": null,
   "metadata": {
    "id": "0zwmaqf99KYz"
   },
   "outputs": [],
   "source": [
    "del fruits_dic['melon']"
   ]
  },
  {
   "cell_type": "code",
   "execution_count": null,
   "metadata": {
    "colab": {
     "base_uri": "https://localhost:8080/"
    },
    "id": "OCd6UG5u9Mev",
    "outputId": "7418da6e-8e55-477a-ea39-0bb6b4236420"
   },
   "outputs": [
    {
     "data": {
      "text/plain": [
       "{'apple': 'red', 'banana': 'yellow', 'grape': 'purple'}"
      ]
     },
     "execution_count": 14,
     "metadata": {
      "tags": []
     },
     "output_type": "execute_result"
    }
   ],
   "source": [
    "fruits_dic"
   ]
  },
  {
   "cell_type": "code",
   "execution_count": null,
   "metadata": {
    "colab": {
     "base_uri": "https://localhost:8080/"
    },
    "id": "P14RGi7kwz0D",
    "outputId": "418db71c-f7d9-4dc5-b3b5-7132f44eb8a9"
   },
   "outputs": [
    {
     "data": {
      "text/plain": [
       "3"
      ]
     },
     "execution_count": 17,
     "metadata": {
      "tags": []
     },
     "output_type": "execute_result"
    }
   ],
   "source": [
    "len(fruits_dic)"
   ]
  },
  {
   "cell_type": "code",
   "execution_count": null,
   "metadata": {
    "colab": {
     "base_uri": "https://localhost:8080/"
    },
    "id": "visouEjxs6cF",
    "outputId": "c355971b-4492-40cc-c61e-cfb902eaf610"
   },
   "outputs": [
    {
     "name": "stdout",
     "output_type": "stream",
     "text": [
      "apple\n",
      "banana\n",
      "grape\n"
     ]
    }
   ],
   "source": [
    "for fruit in fruits_dic :\n",
    "    print(fruit)"
   ]
  },
  {
   "cell_type": "code",
   "execution_count": null,
   "metadata": {
    "colab": {
     "base_uri": "https://localhost:8080/"
    },
    "id": "KCWj5ueHtOaL",
    "outputId": "5562f224-6229-4c54-f9a8-7fdfeec9d1c8"
   },
   "outputs": [
    {
     "name": "stdout",
     "output_type": "stream",
     "text": [
      "apple red\n",
      "banana yellow\n",
      "grape purple\n"
     ]
    }
   ],
   "source": [
    "for key, value in fruits_dic.items() :\n",
    "    print(key, value)"
   ]
  },
  {
   "cell_type": "code",
   "execution_count": null,
   "metadata": {
    "id": "pk5RQNlaqaLc"
   },
   "outputs": [],
   "source": [
    "fruits_dic = {'apple' : {'color' : 'red'}, 'banana' : 'yellow', 'grape' : 'purple'}"
   ]
  },
  {
   "cell_type": "code",
   "execution_count": null,
   "metadata": {
    "colab": {
     "base_uri": "https://localhost:8080/"
    },
    "id": "9YiH3-2qqh-i",
    "outputId": "52dbdbf9-e85c-4367-e55d-87848af28fae"
   },
   "outputs": [
    {
     "data": {
      "text/plain": [
       "{'color': 'red'}"
      ]
     },
     "execution_count": 21,
     "metadata": {
      "tags": []
     },
     "output_type": "execute_result"
    }
   ],
   "source": [
    "fruits_dic['apple']"
   ]
  },
  {
   "cell_type": "code",
   "execution_count": null,
   "metadata": {
    "colab": {
     "base_uri": "https://localhost:8080/",
     "height": 35
    },
    "id": "D4h1CJktqiBL",
    "outputId": "524b54db-b8cb-4c3a-8cc5-daea610b0ea0"
   },
   "outputs": [
    {
     "data": {
      "application/vnd.google.colaboratory.intrinsic+json": {
       "type": "string"
      },
      "text/plain": [
       "'red'"
      ]
     },
     "execution_count": 22,
     "metadata": {
      "tags": []
     },
     "output_type": "execute_result"
    }
   ],
   "source": [
    "fruits_dic['apple']['color']"
   ]
  },
  {
   "cell_type": "code",
   "execution_count": null,
   "metadata": {
    "id": "ztD8GmRAJQFq"
   },
   "outputs": [],
   "source": [
    "fruits_dic = {'apple' : {'color' : ['green', 'red']}, 'banana' : 'yellow', 'grape' : 'purple'}"
   ]
  },
  {
   "cell_type": "code",
   "execution_count": null,
   "metadata": {
    "colab": {
     "base_uri": "https://localhost:8080/",
     "height": 35
    },
    "id": "rC2kq4ijJVTh",
    "outputId": "8c65fa0b-966b-4ec4-f4a7-f69c6f47c8ca"
   },
   "outputs": [
    {
     "data": {
      "application/vnd.google.colaboratory.intrinsic+json": {
       "type": "string"
      },
      "text/plain": [
       "'green'"
      ]
     },
     "execution_count": 24,
     "metadata": {
      "tags": []
     },
     "output_type": "execute_result"
    }
   ],
   "source": [
    "fruits_dic['apple']['color'][0]"
   ]
  },
  {
   "cell_type": "code",
   "execution_count": null,
   "metadata": {
    "colab": {
     "base_uri": "https://localhost:8080/",
     "height": 35
    },
    "id": "CTEK2KlmJXXn",
    "outputId": "eb01c1f7-d867-449e-97b3-def2cd9afec9"
   },
   "outputs": [
    {
     "data": {
      "application/vnd.google.colaboratory.intrinsic+json": {
       "type": "string"
      },
      "text/plain": [
       "'red'"
      ]
     },
     "execution_count": 25,
     "metadata": {
      "tags": []
     },
     "output_type": "execute_result"
    }
   ],
   "source": [
    "fruits_dic['apple']['color'][1]"
   ]
  },
  {
   "cell_type": "code",
   "execution_count": null,
   "metadata": {
    "id": "kTqiZdIRM3pv"
   },
   "outputs": [],
   "source": [
    "fruits = [{'name' : 'apple', 'color' : 'red'},\n",
    "          {'name' : 'banana', 'color' : 'yellow'},\n",
    "          {'name' : 'grape', 'color' : 'purple'}]"
   ]
  },
  {
   "cell_type": "code",
   "execution_count": null,
   "metadata": {
    "colab": {
     "base_uri": "https://localhost:8080/",
     "height": 35
    },
    "id": "VE5475anNJCK",
    "outputId": "9c6a0aa6-81d1-4a5d-ee69-364e37bc3e3f"
   },
   "outputs": [
    {
     "data": {
      "application/vnd.google.colaboratory.intrinsic+json": {
       "type": "string"
      },
      "text/plain": [
       "'apple'"
      ]
     },
     "execution_count": 27,
     "metadata": {
      "tags": []
     },
     "output_type": "execute_result"
    }
   ],
   "source": [
    "fruits[0]['name']"
   ]
  },
  {
   "cell_type": "markdown",
   "metadata": {
    "id": "4A6G_mUIspbE"
   },
   "source": [
    "3. Requests"
   ]
  },
  {
   "cell_type": "code",
   "execution_count": null,
   "metadata": {
    "id": "W4feFJvkruj_"
   },
   "outputs": [],
   "source": [
    "import requests"
   ]
  },
  {
   "cell_type": "code",
   "execution_count": null,
   "metadata": {
    "id": "uXhtocmDrqYk"
   },
   "outputs": [],
   "source": [
    "url = 'https://jsonplaceholder.typicode.com/posts'"
   ]
  },
  {
   "cell_type": "code",
   "execution_count": null,
   "metadata": {
    "colab": {
     "base_uri": "https://localhost:8080/"
    },
    "id": "U2jLGZrNrqbD",
    "outputId": "0377333b-560b-4a0d-aa14-7606c2b61610"
   },
   "outputs": [
    {
     "data": {
      "text/plain": [
       "<Response [200]>"
      ]
     },
     "execution_count": 30,
     "metadata": {
      "tags": []
     },
     "output_type": "execute_result"
    }
   ],
   "source": [
    "requests.get(url)"
   ]
  },
  {
   "cell_type": "code",
   "execution_count": null,
   "metadata": {
    "colab": {
     "base_uri": "https://localhost:8080/"
    },
    "id": "iADbo_1JtqeE",
    "outputId": "36a06fa9-9d8c-480b-bcf4-a63c28b1b050"
   },
   "outputs": [
    {
     "data": {
      "text/plain": [
       "[{'body': 'quia et suscipit\\nsuscipit recusandae consequuntur expedita et cum\\nreprehenderit molestiae ut ut quas totam\\nnostrum rerum est autem sunt rem eveniet architecto',\n",
       "  'id': 1,\n",
       "  'title': 'sunt aut facere repellat provident occaecati excepturi optio reprehenderit',\n",
       "  'userId': 1},\n",
       " {'body': 'est rerum tempore vitae\\nsequi sint nihil reprehenderit dolor beatae ea dolores neque\\nfugiat blanditiis voluptate porro vel nihil molestiae ut reiciendis\\nqui aperiam non debitis possimus qui neque nisi nulla',\n",
       "  'id': 2,\n",
       "  'title': 'qui est esse',\n",
       "  'userId': 1},\n",
       " {'body': 'et iusto sed quo iure\\nvoluptatem occaecati omnis eligendi aut ad\\nvoluptatem doloribus vel accusantium quis pariatur\\nmolestiae porro eius odio et labore et velit aut',\n",
       "  'id': 3,\n",
       "  'title': 'ea molestias quasi exercitationem repellat qui ipsa sit aut',\n",
       "  'userId': 1},\n",
       " {'body': 'ullam et saepe reiciendis voluptatem adipisci\\nsit amet autem assumenda provident rerum culpa\\nquis hic commodi nesciunt rem tenetur doloremque ipsam iure\\nquis sunt voluptatem rerum illo velit',\n",
       "  'id': 4,\n",
       "  'title': 'eum et est occaecati',\n",
       "  'userId': 1},\n",
       " {'body': 'repudiandae veniam quaerat sunt sed\\nalias aut fugiat sit autem sed est\\nvoluptatem omnis possimus esse voluptatibus quis\\nest aut tenetur dolor neque',\n",
       "  'id': 5,\n",
       "  'title': 'nesciunt quas odio',\n",
       "  'userId': 1},\n",
       " {'body': 'ut aspernatur corporis harum nihil quis provident sequi\\nmollitia nobis aliquid molestiae\\nperspiciatis et ea nemo ab reprehenderit accusantium quas\\nvoluptate dolores velit et doloremque molestiae',\n",
       "  'id': 6,\n",
       "  'title': 'dolorem eum magni eos aperiam quia',\n",
       "  'userId': 1},\n",
       " {'body': 'dolore placeat quibusdam ea quo vitae\\nmagni quis enim qui quis quo nemo aut saepe\\nquidem repellat excepturi ut quia\\nsunt ut sequi eos ea sed quas',\n",
       "  'id': 7,\n",
       "  'title': 'magnam facilis autem',\n",
       "  'userId': 1},\n",
       " {'body': 'dignissimos aperiam dolorem qui eum\\nfacilis quibusdam animi sint suscipit qui sint possimus cum\\nquaerat magni maiores excepturi\\nipsam ut commodi dolor voluptatum modi aut vitae',\n",
       "  'id': 8,\n",
       "  'title': 'dolorem dolore est ipsam',\n",
       "  'userId': 1},\n",
       " {'body': 'consectetur animi nesciunt iure dolore\\nenim quia ad\\nveniam autem ut quam aut nobis\\net est aut quod aut provident voluptas autem voluptas',\n",
       "  'id': 9,\n",
       "  'title': 'nesciunt iure omnis dolorem tempora et accusantium',\n",
       "  'userId': 1},\n",
       " {'body': 'quo et expedita modi cum officia vel magni\\ndoloribus qui repudiandae\\nvero nisi sit\\nquos veniam quod sed accusamus veritatis error',\n",
       "  'id': 10,\n",
       "  'title': 'optio molestias id quia eum',\n",
       "  'userId': 1},\n",
       " {'body': 'delectus reiciendis molestiae occaecati non minima eveniet qui voluptatibus\\naccusamus in eum beatae sit\\nvel qui neque voluptates ut commodi qui incidunt\\nut animi commodi',\n",
       "  'id': 11,\n",
       "  'title': 'et ea vero quia laudantium autem',\n",
       "  'userId': 2},\n",
       " {'body': 'itaque id aut magnam\\npraesentium quia et ea odit et ea voluptas et\\nsapiente quia nihil amet occaecati quia id voluptatem\\nincidunt ea est distinctio odio',\n",
       "  'id': 12,\n",
       "  'title': 'in quibusdam tempore odit est dolorem',\n",
       "  'userId': 2},\n",
       " {'body': 'aut dicta possimus sint mollitia voluptas commodi quo doloremque\\niste corrupti reiciendis voluptatem eius rerum\\nsit cumque quod eligendi laborum minima\\nperferendis recusandae assumenda consectetur porro architecto ipsum ipsam',\n",
       "  'id': 13,\n",
       "  'title': 'dolorum ut in voluptas mollitia et saepe quo animi',\n",
       "  'userId': 2},\n",
       " {'body': 'fuga et accusamus dolorum perferendis illo voluptas\\nnon doloremque neque facere\\nad qui dolorum molestiae beatae\\nsed aut voluptas totam sit illum',\n",
       "  'id': 14,\n",
       "  'title': 'voluptatem eligendi optio',\n",
       "  'userId': 2},\n",
       " {'body': 'reprehenderit quos placeat\\nvelit minima officia dolores impedit repudiandae molestiae nam\\nvoluptas recusandae quis delectus\\nofficiis harum fugiat vitae',\n",
       "  'id': 15,\n",
       "  'title': 'eveniet quod temporibus',\n",
       "  'userId': 2},\n",
       " {'body': 'suscipit nam nisi quo aperiam aut\\nasperiores eos fugit maiores voluptatibus quia\\nvoluptatem quis ullam qui in alias quia est\\nconsequatur magni mollitia accusamus ea nisi voluptate dicta',\n",
       "  'id': 16,\n",
       "  'title': 'sint suscipit perspiciatis velit dolorum rerum ipsa laboriosam odio',\n",
       "  'userId': 2},\n",
       " {'body': 'eos voluptas et aut odit natus earum\\naspernatur fuga molestiae ullam\\ndeserunt ratione qui eos\\nqui nihil ratione nemo velit ut aut id quo',\n",
       "  'id': 17,\n",
       "  'title': 'fugit voluptas sed molestias voluptatem provident',\n",
       "  'userId': 2},\n",
       " {'body': 'eveniet quo quis\\nlaborum totam consequatur non dolor\\nut et est repudiandae\\nest voluptatem vel debitis et magnam',\n",
       "  'id': 18,\n",
       "  'title': 'voluptate et itaque vero tempora molestiae',\n",
       "  'userId': 2},\n",
       " {'body': 'illum quis cupiditate provident sit magnam\\nea sed aut omnis\\nveniam maiores ullam consequatur atque\\nadipisci quo iste expedita sit quos voluptas',\n",
       "  'id': 19,\n",
       "  'title': 'adipisci placeat illum aut reiciendis qui',\n",
       "  'userId': 2},\n",
       " {'body': 'qui consequuntur ducimus possimus quisquam amet similique\\nsuscipit porro ipsam amet\\neos veritatis officiis exercitationem vel fugit aut necessitatibus totam\\nomnis rerum consequatur expedita quidem cumque explicabo',\n",
       "  'id': 20,\n",
       "  'title': 'doloribus ad provident suscipit at',\n",
       "  'userId': 2},\n",
       " {'body': 'repellat aliquid praesentium dolorem quo\\nsed totam minus non itaque\\nnihil labore molestiae sunt dolor eveniet hic recusandae veniam\\ntempora et tenetur expedita sunt',\n",
       "  'id': 21,\n",
       "  'title': 'asperiores ea ipsam voluptatibus modi minima quia sint',\n",
       "  'userId': 3},\n",
       " {'body': 'eos qui et ipsum ipsam suscipit aut\\nsed omnis non odio\\nexpedita earum mollitia molestiae aut atque rem suscipit\\nnam impedit esse',\n",
       "  'id': 22,\n",
       "  'title': 'dolor sint quo a velit explicabo quia nam',\n",
       "  'userId': 3},\n",
       " {'body': 'veritatis unde neque eligendi\\nquae quod architecto quo neque vitae\\nest illo sit tempora doloremque fugit quod\\net et vel beatae sequi ullam sed tenetur perspiciatis',\n",
       "  'id': 23,\n",
       "  'title': 'maxime id vitae nihil numquam',\n",
       "  'userId': 3},\n",
       " {'body': 'enim et ex nulla\\nomnis voluptas quia qui\\nvoluptatem consequatur numquam aliquam sunt\\ntotam recusandae id dignissimos aut sed asperiores deserunt',\n",
       "  'id': 24,\n",
       "  'title': 'autem hic labore sunt dolores incidunt',\n",
       "  'userId': 3},\n",
       " {'body': 'ullam consequatur ut\\nomnis quis sit vel consequuntur\\nipsa eligendi ipsum molestiae et omnis error nostrum\\nmolestiae illo tempore quia et distinctio',\n",
       "  'id': 25,\n",
       "  'title': 'rem alias distinctio quo quis',\n",
       "  'userId': 3},\n",
       " {'body': 'similique esse doloribus nihil accusamus\\nomnis dolorem fuga consequuntur reprehenderit fugit recusandae temporibus\\nperspiciatis cum ut laudantium\\nomnis aut molestiae vel vero',\n",
       "  'id': 26,\n",
       "  'title': 'est et quae odit qui non',\n",
       "  'userId': 3},\n",
       " {'body': 'eum sed dolores ipsam sint possimus debitis occaecati\\ndebitis qui qui et\\nut placeat enim earum aut odit facilis\\nconsequatur suscipit necessitatibus rerum sed inventore temporibus consequatur',\n",
       "  'id': 27,\n",
       "  'title': 'quasi id et eos tenetur aut quo autem',\n",
       "  'userId': 3},\n",
       " {'body': 'non et quaerat ex quae ad maiores\\nmaiores recusandae totam aut blanditiis mollitia quas illo\\nut voluptatibus voluptatem\\nsimilique nostrum eum',\n",
       "  'id': 28,\n",
       "  'title': 'delectus ullam et corporis nulla voluptas sequi',\n",
       "  'userId': 3},\n",
       " {'body': 'odit magnam ut saepe sed non qui\\ntempora atque nihil\\naccusamus illum doloribus illo dolor\\neligendi repudiandae odit magni similique sed cum maiores',\n",
       "  'id': 29,\n",
       "  'title': 'iusto eius quod necessitatibus culpa ea',\n",
       "  'userId': 3},\n",
       " {'body': 'alias dolor cumque\\nimpedit blanditiis non eveniet odio maxime\\nblanditiis amet eius quis tempora quia autem rem\\na provident perspiciatis quia',\n",
       "  'id': 30,\n",
       "  'title': 'a quo magni similique perferendis',\n",
       "  'userId': 3},\n",
       " {'body': 'debitis eius sed quibusdam non quis consectetur vitae\\nimpedit ut qui consequatur sed aut in\\nquidem sit nostrum et maiores adipisci atque\\nquaerat voluptatem adipisci repudiandae',\n",
       "  'id': 31,\n",
       "  'title': 'ullam ut quidem id aut vel consequuntur',\n",
       "  'userId': 4},\n",
       " {'body': 'deserunt eos nobis asperiores et hic\\nest debitis repellat molestiae optio\\nnihil ratione ut eos beatae quibusdam distinctio maiores\\nearum voluptates et aut adipisci ea maiores voluptas maxime',\n",
       "  'id': 32,\n",
       "  'title': 'doloremque illum aliquid sunt',\n",
       "  'userId': 4},\n",
       " {'body': 'rerum ut et numquam laborum odit est sit\\nid qui sint in\\nquasi tenetur tempore aperiam et quaerat qui in\\nrerum officiis sequi cumque quod',\n",
       "  'id': 33,\n",
       "  'title': 'qui explicabo molestiae dolorem',\n",
       "  'userId': 4},\n",
       " {'body': 'ea velit perferendis earum ut voluptatem voluptate itaque iusto\\ntotam pariatur in\\nnemo voluptatem voluptatem autem magni tempora minima in\\nest distinctio qui assumenda accusamus dignissimos officia nesciunt nobis',\n",
       "  'id': 34,\n",
       "  'title': 'magnam ut rerum iure',\n",
       "  'userId': 4},\n",
       " {'body': 'nisi error delectus possimus ut eligendi vitae\\nplaceat eos harum cupiditate facilis reprehenderit voluptatem beatae\\nmodi ducimus quo illum voluptas eligendi\\net nobis quia fugit',\n",
       "  'id': 35,\n",
       "  'title': 'id nihil consequatur molestias animi provident',\n",
       "  'userId': 4},\n",
       " {'body': 'ad mollitia et omnis minus architecto odit\\nvoluptas doloremque maxime aut non ipsa qui alias veniam\\nblanditiis culpa aut quia nihil cumque facere et occaecati\\nqui aspernatur quia eaque ut aperiam inventore',\n",
       "  'id': 36,\n",
       "  'title': 'fuga nam accusamus voluptas reiciendis itaque',\n",
       "  'userId': 4},\n",
       " {'body': 'debitis et eaque non officia sed nesciunt pariatur vel\\nvoluptatem iste vero et ea\\nnumquam aut expedita ipsum nulla in\\nvoluptates omnis consequatur aut enim officiis in quam qui',\n",
       "  'id': 37,\n",
       "  'title': 'provident vel ut sit ratione est',\n",
       "  'userId': 4},\n",
       " {'body': 'animi esse sit aut sit nesciunt assumenda eum voluptas\\nquia voluptatibus provident quia necessitatibus ea\\nrerum repudiandae quia voluptatem delectus fugit aut id quia\\nratione optio eos iusto veniam iure',\n",
       "  'id': 38,\n",
       "  'title': 'explicabo et eos deleniti nostrum ab id repellendus',\n",
       "  'userId': 4},\n",
       " {'body': 'corporis rerum ducimus vel eum accusantium\\nmaxime aspernatur a porro possimus iste omnis\\nest in deleniti asperiores fuga aut\\nvoluptas sapiente vel dolore minus voluptatem incidunt ex',\n",
       "  'id': 39,\n",
       "  'title': 'eos dolorem iste accusantium est eaque quam',\n",
       "  'userId': 4},\n",
       " {'body': 'ut voluptatum aliquid illo tenetur nemo sequi quo facilis\\nipsum rem optio mollitia quas\\nvoluptatem eum voluptas qui\\nunde omnis voluptatem iure quasi maxime voluptas nam',\n",
       "  'id': 40,\n",
       "  'title': 'enim quo cumque',\n",
       "  'userId': 4},\n",
       " {'body': 'molestias id nostrum\\nexcepturi molestiae dolore omnis repellendus quaerat saepe\\nconsectetur iste quaerat tenetur asperiores accusamus ex ut\\nnam quidem est ducimus sunt debitis saepe',\n",
       "  'id': 41,\n",
       "  'title': 'non est facere',\n",
       "  'userId': 5},\n",
       " {'body': 'odio fugit voluptatum ducimus earum autem est incidunt voluptatem\\nodit reiciendis aliquam sunt sequi nulla dolorem\\nnon facere repellendus voluptates quia\\nratione harum vitae ut',\n",
       "  'id': 42,\n",
       "  'title': 'commodi ullam sint et excepturi error explicabo praesentium voluptas',\n",
       "  'userId': 5},\n",
       " {'body': 'similique fugit est\\nillum et dolorum harum et voluptate eaque quidem\\nexercitationem quos nam commodi possimus cum odio nihil nulla\\ndolorum exercitationem magnam ex et a et distinctio debitis',\n",
       "  'id': 43,\n",
       "  'title': 'eligendi iste nostrum consequuntur adipisci praesentium sit beatae perferendis',\n",
       "  'userId': 5},\n",
       " {'body': 'temporibus est consectetur dolore\\net libero debitis vel velit laboriosam quia\\nipsum quibusdam qui itaque fuga rem aut\\nea et iure quam sed maxime ut distinctio quae',\n",
       "  'id': 44,\n",
       "  'title': 'optio dolor molestias sit',\n",
       "  'userId': 5},\n",
       " {'body': 'est natus reiciendis nihil possimus aut provident\\nex et dolor\\nrepellat pariatur est\\nnobis rerum repellendus dolorem autem',\n",
       "  'id': 45,\n",
       "  'title': 'ut numquam possimus omnis eius suscipit laudantium iure',\n",
       "  'userId': 5},\n",
       " {'body': 'voluptatem quisquam iste\\nvoluptatibus natus officiis facilis dolorem\\nquis quas ipsam\\nvel et voluptatum in aliquid',\n",
       "  'id': 46,\n",
       "  'title': 'aut quo modi neque nostrum ducimus',\n",
       "  'userId': 5},\n",
       " {'body': 'voluptatem assumenda ut qui ut cupiditate aut impedit veniam\\noccaecati nemo illum voluptatem laudantium\\nmolestiae beatae rerum ea iure soluta nostrum\\neligendi et voluptate',\n",
       "  'id': 47,\n",
       "  'title': 'quibusdam cumque rem aut deserunt',\n",
       "  'userId': 5},\n",
       " {'body': 'voluptates quo voluptatem facilis iure occaecati\\nvel assumenda rerum officia et\\nillum perspiciatis ab deleniti\\nlaudantium repellat ad ut et autem reprehenderit',\n",
       "  'id': 48,\n",
       "  'title': 'ut voluptatem illum ea doloribus itaque eos',\n",
       "  'userId': 5},\n",
       " {'body': 'inventore ab sint\\nnatus fugit id nulla sequi architecto nihil quaerat\\neos tenetur in in eum veritatis non\\nquibusdam officiis aspernatur cumque aut commodi aut',\n",
       "  'id': 49,\n",
       "  'title': 'laborum non sunt aut ut assumenda perspiciatis voluptas',\n",
       "  'userId': 5},\n",
       " {'body': 'error suscipit maxime adipisci consequuntur recusandae\\nvoluptas eligendi et est et voluptates\\nquia distinctio ab amet quaerat molestiae et vitae\\nadipisci impedit sequi nesciunt quis consectetur',\n",
       "  'id': 50,\n",
       "  'title': 'repellendus qui recusandae incidunt voluptates tenetur qui omnis exercitationem',\n",
       "  'userId': 5},\n",
       " {'body': 'sunt dolores aut doloribus\\ndolore doloribus voluptates tempora et\\ndoloremque et quo\\ncum asperiores sit consectetur dolorem',\n",
       "  'id': 51,\n",
       "  'title': 'soluta aliquam aperiam consequatur illo quis voluptas',\n",
       "  'userId': 6},\n",
       " {'body': 'iusto est quibusdam fuga quas quaerat molestias\\na enim ut sit accusamus enim\\ntemporibus iusto accusantium provident architecto\\nsoluta esse reprehenderit qui laborum',\n",
       "  'id': 52,\n",
       "  'title': 'qui enim et consequuntur quia animi quis voluptate quibusdam',\n",
       "  'userId': 6},\n",
       " {'body': 'minima harum praesentium eum rerum illo dolore\\nquasi exercitationem rerum nam\\nporro quis neque quo\\nconsequatur minus dolor quidem veritatis sunt non explicabo similique',\n",
       "  'id': 53,\n",
       "  'title': 'ut quo aut ducimus alias',\n",
       "  'userId': 6},\n",
       " {'body': 'totam corporis dignissimos\\nvitae dolorem ut occaecati accusamus\\nex velit deserunt\\net exercitationem vero incidunt corrupti mollitia',\n",
       "  'id': 54,\n",
       "  'title': 'sit asperiores ipsam eveniet odio non quia',\n",
       "  'userId': 6},\n",
       " {'body': 'debitis excepturi ea perferendis harum libero optio\\neos accusamus cum fuga ut sapiente repudiandae\\net ut incidunt omnis molestiae\\nnihil ut eum odit',\n",
       "  'id': 55,\n",
       "  'title': 'sit vel voluptatem et non libero',\n",
       "  'userId': 6},\n",
       " {'body': 'aut est omnis dolores\\nneque rerum quod ea rerum velit pariatur beatae excepturi\\net provident voluptas corrupti\\ncorporis harum reprehenderit dolores eligendi',\n",
       "  'id': 56,\n",
       "  'title': 'qui et at rerum necessitatibus',\n",
       "  'userId': 6},\n",
       " {'body': 'at pariatur consequuntur earum quidem\\nquo est laudantium soluta voluptatem\\nqui ullam et est\\net cum voluptas voluptatum repellat est',\n",
       "  'id': 57,\n",
       "  'title': 'sed ab est est',\n",
       "  'userId': 6},\n",
       " {'body': 'veniam voluptatum quae adipisci id\\net id quia eos ad et dolorem\\naliquam quo nisi sunt eos impedit error\\nad similique veniam',\n",
       "  'id': 58,\n",
       "  'title': 'voluptatum itaque dolores nisi et quasi',\n",
       "  'userId': 6},\n",
       " {'body': 'perspiciatis et quam ea autem temporibus non voluptatibus qui\\nbeatae a earum officia nesciunt dolores suscipit voluptas et\\nanimi doloribus cum rerum quas et magni\\net hic ut ut commodi expedita sunt',\n",
       "  'id': 59,\n",
       "  'title': 'qui commodi dolor at maiores et quis id accusantium',\n",
       "  'userId': 6},\n",
       " {'body': 'asperiores sunt ab assumenda cumque modi velit\\nqui esse omnis\\nvoluptate et fuga perferendis voluptas\\nillo ratione amet aut et omnis',\n",
       "  'id': 60,\n",
       "  'title': 'consequatur placeat omnis quisquam quia reprehenderit fugit veritatis facere',\n",
       "  'userId': 6},\n",
       " {'body': 'ab nemo optio odio\\ndelectus tenetur corporis similique nobis repellendus rerum omnis facilis\\nvero blanditiis debitis in nesciunt doloribus dicta dolores\\nmagnam minus velit',\n",
       "  'id': 61,\n",
       "  'title': 'voluptatem doloribus consectetur est ut ducimus',\n",
       "  'userId': 7},\n",
       " {'body': 'enim aspernatur illo distinctio quae praesentium\\nbeatae alias amet delectus qui voluptate distinctio\\nodit sint accusantium autem omnis\\nquo molestiae omnis ea eveniet optio',\n",
       "  'id': 62,\n",
       "  'title': 'beatae enim quia vel',\n",
       "  'userId': 7},\n",
       " {'body': 'enim adipisci aspernatur nemo\\nnumquam omnis facere dolorem dolor ex quis temporibus incidunt\\nab delectus culpa quo reprehenderit blanditiis asperiores\\naccusantium ut quam in voluptatibus voluptas ipsam dicta',\n",
       "  'id': 63,\n",
       "  'title': 'voluptas blanditiis repellendus animi ducimus error sapiente et suscipit',\n",
       "  'userId': 7},\n",
       " {'body': 'id velit blanditiis\\neum ea voluptatem\\nmolestiae sint occaecati est eos perspiciatis\\nincidunt a error provident eaque aut aut qui',\n",
       "  'id': 64,\n",
       "  'title': 'et fugit quas eum in in aperiam quod',\n",
       "  'userId': 7},\n",
       " {'body': 'voluptatibus ex esse\\nsint explicabo est aliquid cumque adipisci fuga repellat labore\\nmolestiae corrupti ex saepe at asperiores et perferendis\\nnatus id esse incidunt pariatur',\n",
       "  'id': 65,\n",
       "  'title': 'consequatur id enim sunt et et',\n",
       "  'userId': 7},\n",
       " {'body': 'officia veritatis tenetur vero qui itaque\\nsint non ratione\\nsed et ut asperiores iusto eos molestiae nostrum\\nveritatis quibusdam et nemo iusto saepe',\n",
       "  'id': 66,\n",
       "  'title': 'repudiandae ea animi iusto',\n",
       "  'userId': 7},\n",
       " {'body': 'reprehenderit id nostrum\\nvoluptas doloremque pariatur sint et accusantium quia quod aspernatur\\net fugiat amet\\nnon sapiente et consequatur necessitatibus molestiae',\n",
       "  'id': 67,\n",
       "  'title': 'aliquid eos sed fuga est maxime repellendus',\n",
       "  'userId': 7},\n",
       " {'body': 'magnam molestiae perferendis quisquam\\nqui cum reiciendis\\nquaerat animi amet hic inventore\\nea quia deleniti quidem saepe porro velit',\n",
       "  'id': 68,\n",
       "  'title': 'odio quis facere architecto reiciendis optio',\n",
       "  'userId': 7},\n",
       " {'body': 'officiis error culpa consequatur modi asperiores et\\ndolorum assumenda voluptas et vel qui aut vel rerum\\nvoluptatum quisquam perspiciatis quia rerum consequatur totam quas\\nsequi commodi repudiandae asperiores et saepe a',\n",
       "  'id': 69,\n",
       "  'title': 'fugiat quod pariatur odit minima',\n",
       "  'userId': 7},\n",
       " {'body': 'sunt repellendus quae\\nest asperiores aut deleniti esse accusamus repellendus quia aut\\nquia dolorem unde\\neum tempora esse dolore',\n",
       "  'id': 70,\n",
       "  'title': 'voluptatem laborum magni',\n",
       "  'userId': 7},\n",
       " {'body': 'occaecati a doloribus\\niste saepe consectetur placeat eum voluptate dolorem et\\nqui quo quia voluptas\\nrerum ut id enim velit est perferendis',\n",
       "  'id': 71,\n",
       "  'title': 'et iusto veniam et illum aut fuga',\n",
       "  'userId': 8},\n",
       " {'body': 'quam occaecati qui deleniti consectetur\\nconsequatur aut facere quas exercitationem aliquam hic voluptas\\nneque id sunt ut aut accusamus\\nsunt consectetur expedita inventore velit',\n",
       "  'id': 72,\n",
       "  'title': 'sint hic doloribus consequatur eos non id',\n",
       "  'userId': 8},\n",
       " {'body': 'voluptatem cumque tenetur consequatur expedita ipsum nemo quia explicabo\\naut eum minima consequatur\\ntempore cumque quae est et\\net in consequuntur voluptatem voluptates aut',\n",
       "  'id': 73,\n",
       "  'title': 'consequuntur deleniti eos quia temporibus ab aliquid at',\n",
       "  'userId': 8},\n",
       " {'body': 'odit qui et et necessitatibus sint veniam\\nmollitia amet doloremque molestiae commodi similique magnam et quam\\nblanditiis est itaque\\nquo et tenetur ratione occaecati molestiae tempora',\n",
       "  'id': 74,\n",
       "  'title': 'enim unde ratione doloribus quas enim ut sit sapiente',\n",
       "  'userId': 8},\n",
       " {'body': 'commodi non non omnis et voluptas sit\\nautem aut nobis magnam et sapiente voluptatem\\net laborum repellat qui delectus facilis temporibus\\nrerum amet et nemo voluptate expedita adipisci error dolorem',\n",
       "  'id': 75,\n",
       "  'title': 'dignissimos eum dolor ut enim et delectus in',\n",
       "  'userId': 8},\n",
       " {'body': 'ut animi facere\\ntotam iusto tempore\\nmolestiae eum aut et dolorem aperiam\\nquaerat recusandae totam odio',\n",
       "  'id': 76,\n",
       "  'title': 'doloremque officiis ad et non perferendis',\n",
       "  'userId': 8},\n",
       " {'body': 'modi ut in nulla repudiandae dolorum nostrum eos\\naut consequatur omnis\\nut incidunt est omnis iste et quam\\nvoluptates sapiente aliquam asperiores nobis amet corrupti repudiandae provident',\n",
       "  'id': 77,\n",
       "  'title': 'necessitatibus quasi exercitationem odio',\n",
       "  'userId': 8},\n",
       " {'body': 'nobis facilis odit tempore cupiditate quia\\nassumenda doloribus rerum qui ea\\nillum et qui totam\\naut veniam repellendus',\n",
       "  'id': 78,\n",
       "  'title': 'quam voluptatibus rerum veritatis',\n",
       "  'userId': 8},\n",
       " {'body': 'libero accusantium et et facere incidunt sit dolorem\\nnon excepturi qui quia sed laudantium\\nquisquam molestiae ducimus est\\nofficiis esse molestiae iste et quos',\n",
       "  'id': 79,\n",
       "  'title': 'pariatur consequatur quia magnam autem omnis non amet',\n",
       "  'userId': 8},\n",
       " {'body': 'ex quod dolorem ea eum iure qui provident amet\\nquia qui facere excepturi et repudiandae\\nasperiores molestias provident\\nminus incidunt vero fugit rerum sint sunt excepturi provident',\n",
       "  'id': 80,\n",
       "  'title': 'labore in ex et explicabo corporis aut quas',\n",
       "  'userId': 8},\n",
       " {'body': 'facere qui nesciunt est voluptatum voluptatem nisi\\nsequi eligendi necessitatibus ea at rerum itaque\\nharum non ratione velit laboriosam quis consequuntur\\nex officiis minima doloremque voluptas ut aut',\n",
       "  'id': 81,\n",
       "  'title': 'tempora rem veritatis voluptas quo dolores vero',\n",
       "  'userId': 9},\n",
       " {'body': 'ut libero sit aut totam inventore sunt\\nporro sint qui sunt molestiae\\nconsequatur cupiditate qui iste ducimus adipisci\\ndolor enim assumenda soluta laboriosam amet iste delectus hic',\n",
       "  'id': 82,\n",
       "  'title': 'laudantium voluptate suscipit sunt enim enim',\n",
       "  'userId': 9},\n",
       " {'body': 'est molestiae facilis quis tempora numquam nihil qui\\nvoluptate sapiente consequatur est qui\\nnecessitatibus autem aut ipsa aperiam modi dolore numquam\\nreprehenderit eius rem quibusdam',\n",
       "  'id': 83,\n",
       "  'title': 'odit et voluptates doloribus alias odio et',\n",
       "  'userId': 9},\n",
       " {'body': 'sint molestiae magni a et quos\\neaque et quasi\\nut rerum debitis similique veniam\\nrecusandae dignissimos dolor incidunt consequatur odio',\n",
       "  'id': 84,\n",
       "  'title': 'optio ipsam molestias necessitatibus occaecati facilis veritatis dolores aut',\n",
       "  'userId': 9},\n",
       " {'body': 'similique sed nisi voluptas iusto omnis\\nmollitia et quo\\nassumenda suscipit officia magnam sint sed tempora\\nenim provident pariatur praesentium atque animi amet ratione',\n",
       "  'id': 85,\n",
       "  'title': 'dolore veritatis porro provident adipisci blanditiis et sunt',\n",
       "  'userId': 9},\n",
       " {'body': 'quasi excepturi consequatur iste autem temporibus sed molestiae beatae\\net quaerat et esse ut\\nvoluptatem occaecati et vel explicabo autem\\nasperiores pariatur deserunt optio',\n",
       "  'id': 86,\n",
       "  'title': 'placeat quia et porro iste',\n",
       "  'userId': 9},\n",
       " {'body': 'eos et molestiae\\nnesciunt ut a\\ndolores perspiciatis repellendus repellat aliquid\\nmagnam sint rem ipsum est',\n",
       "  'id': 87,\n",
       "  'title': 'nostrum quis quasi placeat',\n",
       "  'userId': 9},\n",
       " {'body': 'consequatur omnis est praesentium\\nducimus non iste\\nneque hic deserunt\\nvoluptatibus veniam cum et rerum sed',\n",
       "  'id': 88,\n",
       "  'title': 'sapiente omnis fugit eos',\n",
       "  'userId': 9},\n",
       " {'body': 'repellat aut aperiam totam temporibus autem et\\narchitecto magnam ut\\nconsequatur qui cupiditate rerum quia soluta dignissimos nihil iure\\ntempore quas est',\n",
       "  'id': 89,\n",
       "  'title': 'sint soluta et vel magnam aut ut sed qui',\n",
       "  'userId': 9},\n",
       " {'body': 'minus omnis soluta quia\\nqui sed adipisci voluptates illum ipsam voluptatem\\neligendi officia ut in\\neos soluta similique molestias praesentium blanditiis',\n",
       "  'id': 90,\n",
       "  'title': 'ad iusto omnis odit dolor voluptatibus',\n",
       "  'userId': 9},\n",
       " {'body': 'libero voluptate eveniet aperiam sed\\nsunt placeat suscipit molestias\\nsimilique fugit nam natus\\nexpedita consequatur consequatur dolores quia eos et placeat',\n",
       "  'id': 91,\n",
       "  'title': 'aut amet sed',\n",
       "  'userId': 10},\n",
       " {'body': 'aut et excepturi dicta laudantium sint rerum nihil\\nlaudantium et at\\na neque minima officia et similique libero et\\ncommodi voluptate qui',\n",
       "  'id': 92,\n",
       "  'title': 'ratione ex tenetur perferendis',\n",
       "  'userId': 10},\n",
       " {'body': 'dolorem quibusdam ducimus consequuntur dicta aut quo laboriosam\\nvoluptatem quis enim recusandae ut sed sunt\\nnostrum est odit totam\\nsit error sed sunt eveniet provident qui nulla',\n",
       "  'id': 93,\n",
       "  'title': 'beatae soluta recusandae',\n",
       "  'userId': 10},\n",
       " {'body': 'aspernatur expedita soluta quo ab ut similique\\nexpedita dolores amet\\nsed temporibus distinctio magnam saepe deleniti\\nomnis facilis nam ipsum natus sint similique omnis',\n",
       "  'id': 94,\n",
       "  'title': 'qui qui voluptates illo iste minima',\n",
       "  'userId': 10},\n",
       " {'body': 'earum voluptatem facere provident blanditiis velit laboriosam\\npariatur accusamus odio saepe\\ncumque dolor qui a dicta ab doloribus consequatur omnis\\ncorporis cupiditate eaque assumenda ad nesciunt',\n",
       "  'id': 95,\n",
       "  'title': 'id minus libero illum nam ad officiis',\n",
       "  'userId': 10},\n",
       " {'body': 'in non odio excepturi sint eum\\nlabore voluptates vitae quia qui et\\ninventore itaque rerum\\nveniam non exercitationem delectus aut',\n",
       "  'id': 96,\n",
       "  'title': 'quaerat velit veniam amet cupiditate aut numquam ut sequi',\n",
       "  'userId': 10},\n",
       " {'body': 'eum non blanditiis soluta porro quibusdam voluptas\\nvel voluptatem qui placeat dolores qui velit aut\\nvel inventore aut cumque culpa explicabo aliquid at\\nperspiciatis est et voluptatem dignissimos dolor itaque sit nam',\n",
       "  'id': 97,\n",
       "  'title': 'quas fugiat ut perspiciatis vero provident',\n",
       "  'userId': 10},\n",
       " {'body': 'doloremque ex facilis sit sint culpa\\nsoluta assumenda eligendi non ut eius\\nsequi ducimus vel quasi\\nveritatis est dolores',\n",
       "  'id': 98,\n",
       "  'title': 'laboriosam dolor voluptates',\n",
       "  'userId': 10},\n",
       " {'body': 'quo deleniti praesentium dicta non quod\\naut est molestias\\nmolestias et officia quis nihil\\nitaque dolorem quia',\n",
       "  'id': 99,\n",
       "  'title': 'temporibus sit alias delectus eligendi possimus magni',\n",
       "  'userId': 10},\n",
       " {'body': 'cupiditate quo est a modi nesciunt soluta\\nipsa voluptas error itaque dicta in\\nautem qui minus magnam et distinctio eum\\naccusamus ratione error aut',\n",
       "  'id': 100,\n",
       "  'title': 'at nam consequatur ea labore ea harum',\n",
       "  'userId': 10}]"
      ]
     },
     "execution_count": 31,
     "metadata": {
      "tags": []
     },
     "output_type": "execute_result"
    }
   ],
   "source": [
    "requests.get(url).json()"
   ]
  },
  {
   "cell_type": "code",
   "execution_count": null,
   "metadata": {
    "id": "9gK2uZnarqdx"
   },
   "outputs": [],
   "source": [
    "test_json = requests.get(url).json()"
   ]
  },
  {
   "cell_type": "code",
   "execution_count": null,
   "metadata": {
    "colab": {
     "base_uri": "https://localhost:8080/"
    },
    "id": "HmC6eEjwsOPn",
    "outputId": "2f9d1911-6ae6-4caf-a2f5-0413a5564549"
   },
   "outputs": [
    {
     "data": {
      "text/plain": [
       "list"
      ]
     },
     "execution_count": 33,
     "metadata": {
      "tags": []
     },
     "output_type": "execute_result"
    }
   ],
   "source": [
    "type(test_json)"
   ]
  },
  {
   "cell_type": "code",
   "execution_count": null,
   "metadata": {
    "colab": {
     "base_uri": "https://localhost:8080/"
    },
    "id": "a6jBRJllr1Hi",
    "outputId": "714b975c-088f-4ca8-a7c7-1e279fa874cd"
   },
   "outputs": [
    {
     "data": {
      "text/plain": [
       "{'body': 'quia et suscipit\\nsuscipit recusandae consequuntur expedita et cum\\nreprehenderit molestiae ut ut quas totam\\nnostrum rerum est autem sunt rem eveniet architecto',\n",
       " 'id': 1,\n",
       " 'title': 'sunt aut facere repellat provident occaecati excepturi optio reprehenderit',\n",
       " 'userId': 1}"
      ]
     },
     "execution_count": 34,
     "metadata": {
      "tags": []
     },
     "output_type": "execute_result"
    }
   ],
   "source": [
    "test_json[0]"
   ]
  },
  {
   "cell_type": "code",
   "execution_count": null,
   "metadata": {
    "colab": {
     "base_uri": "https://localhost:8080/"
    },
    "id": "5Jmedv7isSiu",
    "outputId": "84877884-0439-4e18-bda6-0846a19f4261"
   },
   "outputs": [
    {
     "data": {
      "text/plain": [
       "dict"
      ]
     },
     "execution_count": 35,
     "metadata": {
      "tags": []
     },
     "output_type": "execute_result"
    }
   ],
   "source": [
    "type(test_json[0])"
   ]
  },
  {
   "cell_type": "code",
   "execution_count": null,
   "metadata": {
    "colab": {
     "base_uri": "https://localhost:8080/",
     "height": 35
    },
    "id": "3k9v5P0ytzYS",
    "outputId": "4df1633a-eb33-4bd4-be20-f34beb04504f"
   },
   "outputs": [
    {
     "data": {
      "application/vnd.google.colaboratory.intrinsic+json": {
       "type": "string"
      },
      "text/plain": [
       "'quia et suscipit\\nsuscipit recusandae consequuntur expedita et cum\\nreprehenderit molestiae ut ut quas totam\\nnostrum rerum est autem sunt rem eveniet architecto'"
      ]
     },
     "execution_count": 36,
     "metadata": {
      "tags": []
     },
     "output_type": "execute_result"
    }
   ],
   "source": [
    "test_json[0]['body']"
   ]
  },
  {
   "cell_type": "code",
   "execution_count": null,
   "metadata": {
    "colab": {
     "base_uri": "https://localhost:8080/"
    },
    "id": "EXkPyoESt1x2",
    "outputId": "67b11bee-e8d0-4538-d3fe-f054b7374015"
   },
   "outputs": [
    {
     "data": {
      "text/plain": [
       "1"
      ]
     },
     "execution_count": 37,
     "metadata": {
      "tags": []
     },
     "output_type": "execute_result"
    }
   ],
   "source": [
    "test_json[0]['id']"
   ]
  },
  {
   "cell_type": "code",
   "execution_count": null,
   "metadata": {
    "colab": {
     "base_uri": "https://localhost:8080/",
     "height": 35
    },
    "id": "LF2Tsx5St35b",
    "outputId": "73e3404e-8bf4-448c-b144-fc0083400810"
   },
   "outputs": [
    {
     "data": {
      "application/vnd.google.colaboratory.intrinsic+json": {
       "type": "string"
      },
      "text/plain": [
       "'sunt aut facere repellat provident occaecati excepturi optio reprehenderit'"
      ]
     },
     "execution_count": 38,
     "metadata": {
      "tags": []
     },
     "output_type": "execute_result"
    }
   ],
   "source": [
    "test_json[0]['title']"
   ]
  },
  {
   "cell_type": "code",
   "execution_count": null,
   "metadata": {
    "colab": {
     "base_uri": "https://localhost:8080/"
    },
    "id": "RkIPjJqor1Kk",
    "outputId": "3c9d14c2-17b2-4077-d0bd-2ef36f7684ad"
   },
   "outputs": [
    {
     "data": {
      "text/plain": [
       "1"
      ]
     },
     "execution_count": 39,
     "metadata": {
      "tags": []
     },
     "output_type": "execute_result"
    }
   ],
   "source": [
    "test_json[0]['userId']"
   ]
  },
  {
   "cell_type": "code",
   "execution_count": null,
   "metadata": {
    "colab": {
     "base_uri": "https://localhost:8080/"
    },
    "id": "RMgr75sDu7Mi",
    "outputId": "6ba412e8-3624-404b-e3b8-046c66a911ed"
   },
   "outputs": [
    {
     "name": "stdout",
     "output_type": "stream",
     "text": [
      "sunt aut facere repellat provident occaecati excepturi optio reprehenderit\n",
      "qui est esse\n",
      "ea molestias quasi exercitationem repellat qui ipsa sit aut\n",
      "eum et est occaecati\n",
      "nesciunt quas odio\n",
      "dolorem eum magni eos aperiam quia\n",
      "magnam facilis autem\n",
      "dolorem dolore est ipsam\n",
      "nesciunt iure omnis dolorem tempora et accusantium\n",
      "optio molestias id quia eum\n"
     ]
    }
   ],
   "source": [
    "for i in range(10) :\n",
    "    print(test_json[i]['title'])"
   ]
  },
  {
   "cell_type": "code",
   "execution_count": null,
   "metadata": {
    "colab": {
     "base_uri": "https://localhost:8080/"
    },
    "id": "36A9aP-ou7Rh",
    "outputId": "24016fef-1109-4bab-90db-09f04d71b4e0"
   },
   "outputs": [
    {
     "name": "stdout",
     "output_type": "stream",
     "text": [
      "sunt aut facere repellat provident occaecati excepturi optio reprehenderit\n",
      "qui est esse\n",
      "ea molestias quasi exercitationem repellat qui ipsa sit aut\n",
      "eum et est occaecati\n",
      "nesciunt quas odio\n",
      "dolorem eum magni eos aperiam quia\n",
      "magnam facilis autem\n",
      "dolorem dolore est ipsam\n",
      "nesciunt iure omnis dolorem tempora et accusantium\n",
      "optio molestias id quia eum\n",
      "et ea vero quia laudantium autem\n",
      "in quibusdam tempore odit est dolorem\n",
      "dolorum ut in voluptas mollitia et saepe quo animi\n",
      "voluptatem eligendi optio\n",
      "eveniet quod temporibus\n",
      "sint suscipit perspiciatis velit dolorum rerum ipsa laboriosam odio\n",
      "fugit voluptas sed molestias voluptatem provident\n",
      "voluptate et itaque vero tempora molestiae\n",
      "adipisci placeat illum aut reiciendis qui\n",
      "doloribus ad provident suscipit at\n",
      "asperiores ea ipsam voluptatibus modi minima quia sint\n",
      "dolor sint quo a velit explicabo quia nam\n",
      "maxime id vitae nihil numquam\n",
      "autem hic labore sunt dolores incidunt\n",
      "rem alias distinctio quo quis\n",
      "est et quae odit qui non\n",
      "quasi id et eos tenetur aut quo autem\n",
      "delectus ullam et corporis nulla voluptas sequi\n",
      "iusto eius quod necessitatibus culpa ea\n",
      "a quo magni similique perferendis\n",
      "ullam ut quidem id aut vel consequuntur\n",
      "doloremque illum aliquid sunt\n",
      "qui explicabo molestiae dolorem\n",
      "magnam ut rerum iure\n",
      "id nihil consequatur molestias animi provident\n",
      "fuga nam accusamus voluptas reiciendis itaque\n",
      "provident vel ut sit ratione est\n",
      "explicabo et eos deleniti nostrum ab id repellendus\n",
      "eos dolorem iste accusantium est eaque quam\n",
      "enim quo cumque\n",
      "non est facere\n",
      "commodi ullam sint et excepturi error explicabo praesentium voluptas\n",
      "eligendi iste nostrum consequuntur adipisci praesentium sit beatae perferendis\n",
      "optio dolor molestias sit\n",
      "ut numquam possimus omnis eius suscipit laudantium iure\n",
      "aut quo modi neque nostrum ducimus\n",
      "quibusdam cumque rem aut deserunt\n",
      "ut voluptatem illum ea doloribus itaque eos\n",
      "laborum non sunt aut ut assumenda perspiciatis voluptas\n",
      "repellendus qui recusandae incidunt voluptates tenetur qui omnis exercitationem\n",
      "soluta aliquam aperiam consequatur illo quis voluptas\n",
      "qui enim et consequuntur quia animi quis voluptate quibusdam\n",
      "ut quo aut ducimus alias\n",
      "sit asperiores ipsam eveniet odio non quia\n",
      "sit vel voluptatem et non libero\n",
      "qui et at rerum necessitatibus\n",
      "sed ab est est\n",
      "voluptatum itaque dolores nisi et quasi\n",
      "qui commodi dolor at maiores et quis id accusantium\n",
      "consequatur placeat omnis quisquam quia reprehenderit fugit veritatis facere\n",
      "voluptatem doloribus consectetur est ut ducimus\n",
      "beatae enim quia vel\n",
      "voluptas blanditiis repellendus animi ducimus error sapiente et suscipit\n",
      "et fugit quas eum in in aperiam quod\n",
      "consequatur id enim sunt et et\n",
      "repudiandae ea animi iusto\n",
      "aliquid eos sed fuga est maxime repellendus\n",
      "odio quis facere architecto reiciendis optio\n",
      "fugiat quod pariatur odit minima\n",
      "voluptatem laborum magni\n",
      "et iusto veniam et illum aut fuga\n",
      "sint hic doloribus consequatur eos non id\n",
      "consequuntur deleniti eos quia temporibus ab aliquid at\n",
      "enim unde ratione doloribus quas enim ut sit sapiente\n",
      "dignissimos eum dolor ut enim et delectus in\n",
      "doloremque officiis ad et non perferendis\n",
      "necessitatibus quasi exercitationem odio\n",
      "quam voluptatibus rerum veritatis\n",
      "pariatur consequatur quia magnam autem omnis non amet\n",
      "labore in ex et explicabo corporis aut quas\n",
      "tempora rem veritatis voluptas quo dolores vero\n",
      "laudantium voluptate suscipit sunt enim enim\n",
      "odit et voluptates doloribus alias odio et\n",
      "optio ipsam molestias necessitatibus occaecati facilis veritatis dolores aut\n",
      "dolore veritatis porro provident adipisci blanditiis et sunt\n",
      "placeat quia et porro iste\n",
      "nostrum quis quasi placeat\n",
      "sapiente omnis fugit eos\n",
      "sint soluta et vel magnam aut ut sed qui\n",
      "ad iusto omnis odit dolor voluptatibus\n",
      "aut amet sed\n",
      "ratione ex tenetur perferendis\n",
      "beatae soluta recusandae\n",
      "qui qui voluptates illo iste minima\n",
      "id minus libero illum nam ad officiis\n",
      "quaerat velit veniam amet cupiditate aut numquam ut sequi\n",
      "quas fugiat ut perspiciatis vero provident\n",
      "laboriosam dolor voluptates\n",
      "temporibus sit alias delectus eligendi possimus magni\n",
      "at nam consequatur ea labore ea harum\n"
     ]
    }
   ],
   "source": [
    "for i in range(len(test_json)) :\n",
    "    print(test_json[i]['title'])"
   ]
  },
  {
   "cell_type": "code",
   "execution_count": null,
   "metadata": {
    "colab": {
     "base_uri": "https://localhost:8080/"
    },
    "id": "lj5d8BU0vaFt",
    "outputId": "8f8c8c8b-ccbd-4350-bba1-cac5c0bd19db"
   },
   "outputs": [
    {
     "name": "stdout",
     "output_type": "stream",
     "text": [
      "1 sunt aut facere repellat provident occaecati excepturi optio reprehenderit\n",
      "2 qui est esse\n",
      "3 ea molestias quasi exercitationem repellat qui ipsa sit aut\n",
      "4 eum et est occaecati\n",
      "5 nesciunt quas odio\n",
      "6 dolorem eum magni eos aperiam quia\n",
      "7 magnam facilis autem\n",
      "8 dolorem dolore est ipsam\n",
      "9 nesciunt iure omnis dolorem tempora et accusantium\n",
      "10 optio molestias id quia eum\n",
      "11 et ea vero quia laudantium autem\n",
      "12 in quibusdam tempore odit est dolorem\n",
      "13 dolorum ut in voluptas mollitia et saepe quo animi\n",
      "14 voluptatem eligendi optio\n",
      "15 eveniet quod temporibus\n",
      "16 sint suscipit perspiciatis velit dolorum rerum ipsa laboriosam odio\n",
      "17 fugit voluptas sed molestias voluptatem provident\n",
      "18 voluptate et itaque vero tempora molestiae\n",
      "19 adipisci placeat illum aut reiciendis qui\n",
      "20 doloribus ad provident suscipit at\n",
      "21 asperiores ea ipsam voluptatibus modi minima quia sint\n",
      "22 dolor sint quo a velit explicabo quia nam\n",
      "23 maxime id vitae nihil numquam\n",
      "24 autem hic labore sunt dolores incidunt\n",
      "25 rem alias distinctio quo quis\n",
      "26 est et quae odit qui non\n",
      "27 quasi id et eos tenetur aut quo autem\n",
      "28 delectus ullam et corporis nulla voluptas sequi\n",
      "29 iusto eius quod necessitatibus culpa ea\n",
      "30 a quo magni similique perferendis\n",
      "31 ullam ut quidem id aut vel consequuntur\n",
      "32 doloremque illum aliquid sunt\n",
      "33 qui explicabo molestiae dolorem\n",
      "34 magnam ut rerum iure\n",
      "35 id nihil consequatur molestias animi provident\n",
      "36 fuga nam accusamus voluptas reiciendis itaque\n",
      "37 provident vel ut sit ratione est\n",
      "38 explicabo et eos deleniti nostrum ab id repellendus\n",
      "39 eos dolorem iste accusantium est eaque quam\n",
      "40 enim quo cumque\n",
      "41 non est facere\n",
      "42 commodi ullam sint et excepturi error explicabo praesentium voluptas\n",
      "43 eligendi iste nostrum consequuntur adipisci praesentium sit beatae perferendis\n",
      "44 optio dolor molestias sit\n",
      "45 ut numquam possimus omnis eius suscipit laudantium iure\n",
      "46 aut quo modi neque nostrum ducimus\n",
      "47 quibusdam cumque rem aut deserunt\n",
      "48 ut voluptatem illum ea doloribus itaque eos\n",
      "49 laborum non sunt aut ut assumenda perspiciatis voluptas\n",
      "50 repellendus qui recusandae incidunt voluptates tenetur qui omnis exercitationem\n",
      "51 soluta aliquam aperiam consequatur illo quis voluptas\n",
      "52 qui enim et consequuntur quia animi quis voluptate quibusdam\n",
      "53 ut quo aut ducimus alias\n",
      "54 sit asperiores ipsam eveniet odio non quia\n",
      "55 sit vel voluptatem et non libero\n",
      "56 qui et at rerum necessitatibus\n",
      "57 sed ab est est\n",
      "58 voluptatum itaque dolores nisi et quasi\n",
      "59 qui commodi dolor at maiores et quis id accusantium\n",
      "60 consequatur placeat omnis quisquam quia reprehenderit fugit veritatis facere\n",
      "61 voluptatem doloribus consectetur est ut ducimus\n",
      "62 beatae enim quia vel\n",
      "63 voluptas blanditiis repellendus animi ducimus error sapiente et suscipit\n",
      "64 et fugit quas eum in in aperiam quod\n",
      "65 consequatur id enim sunt et et\n",
      "66 repudiandae ea animi iusto\n",
      "67 aliquid eos sed fuga est maxime repellendus\n",
      "68 odio quis facere architecto reiciendis optio\n",
      "69 fugiat quod pariatur odit minima\n",
      "70 voluptatem laborum magni\n",
      "71 et iusto veniam et illum aut fuga\n",
      "72 sint hic doloribus consequatur eos non id\n",
      "73 consequuntur deleniti eos quia temporibus ab aliquid at\n",
      "74 enim unde ratione doloribus quas enim ut sit sapiente\n",
      "75 dignissimos eum dolor ut enim et delectus in\n",
      "76 doloremque officiis ad et non perferendis\n",
      "77 necessitatibus quasi exercitationem odio\n",
      "78 quam voluptatibus rerum veritatis\n",
      "79 pariatur consequatur quia magnam autem omnis non amet\n",
      "80 labore in ex et explicabo corporis aut quas\n",
      "81 tempora rem veritatis voluptas quo dolores vero\n",
      "82 laudantium voluptate suscipit sunt enim enim\n",
      "83 odit et voluptates doloribus alias odio et\n",
      "84 optio ipsam molestias necessitatibus occaecati facilis veritatis dolores aut\n",
      "85 dolore veritatis porro provident adipisci blanditiis et sunt\n",
      "86 placeat quia et porro iste\n",
      "87 nostrum quis quasi placeat\n",
      "88 sapiente omnis fugit eos\n",
      "89 sint soluta et vel magnam aut ut sed qui\n",
      "90 ad iusto omnis odit dolor voluptatibus\n",
      "91 aut amet sed\n",
      "92 ratione ex tenetur perferendis\n",
      "93 beatae soluta recusandae\n",
      "94 qui qui voluptates illo iste minima\n",
      "95 id minus libero illum nam ad officiis\n",
      "96 quaerat velit veniam amet cupiditate aut numquam ut sequi\n",
      "97 quas fugiat ut perspiciatis vero provident\n",
      "98 laboriosam dolor voluptates\n",
      "99 temporibus sit alias delectus eligendi possimus magni\n",
      "100 at nam consequatur ea labore ea harum\n"
     ]
    }
   ],
   "source": [
    "for i in range(len(test_json)) :\n",
    "    print(test_json[i]['id'], test_json[i]['title'])"
   ]
  },
  {
   "cell_type": "code",
   "execution_count": null,
   "metadata": {
    "id": "BcsX1qwlwAlu"
   },
   "outputs": [],
   "source": [
    "a = []\n",
    "\n",
    "for i in range(len(test_json)) :\n",
    "    a.append([test_json[i]['id'], test_json[i]['title']])"
   ]
  },
  {
   "cell_type": "code",
   "execution_count": null,
   "metadata": {
    "colab": {
     "base_uri": "https://localhost:8080/"
    },
    "id": "dWz-iBMawIhV",
    "outputId": "32d6ba73-b482-48d3-e6d2-27cccf781a62"
   },
   "outputs": [
    {
     "data": {
      "text/plain": [
       "[[1,\n",
       "  'sunt aut facere repellat provident occaecati excepturi optio reprehenderit'],\n",
       " [2, 'qui est esse'],\n",
       " [3, 'ea molestias quasi exercitationem repellat qui ipsa sit aut'],\n",
       " [4, 'eum et est occaecati'],\n",
       " [5, 'nesciunt quas odio'],\n",
       " [6, 'dolorem eum magni eos aperiam quia'],\n",
       " [7, 'magnam facilis autem'],\n",
       " [8, 'dolorem dolore est ipsam'],\n",
       " [9, 'nesciunt iure omnis dolorem tempora et accusantium'],\n",
       " [10, 'optio molestias id quia eum'],\n",
       " [11, 'et ea vero quia laudantium autem'],\n",
       " [12, 'in quibusdam tempore odit est dolorem'],\n",
       " [13, 'dolorum ut in voluptas mollitia et saepe quo animi'],\n",
       " [14, 'voluptatem eligendi optio'],\n",
       " [15, 'eveniet quod temporibus'],\n",
       " [16, 'sint suscipit perspiciatis velit dolorum rerum ipsa laboriosam odio'],\n",
       " [17, 'fugit voluptas sed molestias voluptatem provident'],\n",
       " [18, 'voluptate et itaque vero tempora molestiae'],\n",
       " [19, 'adipisci placeat illum aut reiciendis qui'],\n",
       " [20, 'doloribus ad provident suscipit at'],\n",
       " [21, 'asperiores ea ipsam voluptatibus modi minima quia sint'],\n",
       " [22, 'dolor sint quo a velit explicabo quia nam'],\n",
       " [23, 'maxime id vitae nihil numquam'],\n",
       " [24, 'autem hic labore sunt dolores incidunt'],\n",
       " [25, 'rem alias distinctio quo quis'],\n",
       " [26, 'est et quae odit qui non'],\n",
       " [27, 'quasi id et eos tenetur aut quo autem'],\n",
       " [28, 'delectus ullam et corporis nulla voluptas sequi'],\n",
       " [29, 'iusto eius quod necessitatibus culpa ea'],\n",
       " [30, 'a quo magni similique perferendis'],\n",
       " [31, 'ullam ut quidem id aut vel consequuntur'],\n",
       " [32, 'doloremque illum aliquid sunt'],\n",
       " [33, 'qui explicabo molestiae dolorem'],\n",
       " [34, 'magnam ut rerum iure'],\n",
       " [35, 'id nihil consequatur molestias animi provident'],\n",
       " [36, 'fuga nam accusamus voluptas reiciendis itaque'],\n",
       " [37, 'provident vel ut sit ratione est'],\n",
       " [38, 'explicabo et eos deleniti nostrum ab id repellendus'],\n",
       " [39, 'eos dolorem iste accusantium est eaque quam'],\n",
       " [40, 'enim quo cumque'],\n",
       " [41, 'non est facere'],\n",
       " [42, 'commodi ullam sint et excepturi error explicabo praesentium voluptas'],\n",
       " [43,\n",
       "  'eligendi iste nostrum consequuntur adipisci praesentium sit beatae perferendis'],\n",
       " [44, 'optio dolor molestias sit'],\n",
       " [45, 'ut numquam possimus omnis eius suscipit laudantium iure'],\n",
       " [46, 'aut quo modi neque nostrum ducimus'],\n",
       " [47, 'quibusdam cumque rem aut deserunt'],\n",
       " [48, 'ut voluptatem illum ea doloribus itaque eos'],\n",
       " [49, 'laborum non sunt aut ut assumenda perspiciatis voluptas'],\n",
       " [50,\n",
       "  'repellendus qui recusandae incidunt voluptates tenetur qui omnis exercitationem'],\n",
       " [51, 'soluta aliquam aperiam consequatur illo quis voluptas'],\n",
       " [52, 'qui enim et consequuntur quia animi quis voluptate quibusdam'],\n",
       " [53, 'ut quo aut ducimus alias'],\n",
       " [54, 'sit asperiores ipsam eveniet odio non quia'],\n",
       " [55, 'sit vel voluptatem et non libero'],\n",
       " [56, 'qui et at rerum necessitatibus'],\n",
       " [57, 'sed ab est est'],\n",
       " [58, 'voluptatum itaque dolores nisi et quasi'],\n",
       " [59, 'qui commodi dolor at maiores et quis id accusantium'],\n",
       " [60,\n",
       "  'consequatur placeat omnis quisquam quia reprehenderit fugit veritatis facere'],\n",
       " [61, 'voluptatem doloribus consectetur est ut ducimus'],\n",
       " [62, 'beatae enim quia vel'],\n",
       " [63,\n",
       "  'voluptas blanditiis repellendus animi ducimus error sapiente et suscipit'],\n",
       " [64, 'et fugit quas eum in in aperiam quod'],\n",
       " [65, 'consequatur id enim sunt et et'],\n",
       " [66, 'repudiandae ea animi iusto'],\n",
       " [67, 'aliquid eos sed fuga est maxime repellendus'],\n",
       " [68, 'odio quis facere architecto reiciendis optio'],\n",
       " [69, 'fugiat quod pariatur odit minima'],\n",
       " [70, 'voluptatem laborum magni'],\n",
       " [71, 'et iusto veniam et illum aut fuga'],\n",
       " [72, 'sint hic doloribus consequatur eos non id'],\n",
       " [73, 'consequuntur deleniti eos quia temporibus ab aliquid at'],\n",
       " [74, 'enim unde ratione doloribus quas enim ut sit sapiente'],\n",
       " [75, 'dignissimos eum dolor ut enim et delectus in'],\n",
       " [76, 'doloremque officiis ad et non perferendis'],\n",
       " [77, 'necessitatibus quasi exercitationem odio'],\n",
       " [78, 'quam voluptatibus rerum veritatis'],\n",
       " [79, 'pariatur consequatur quia magnam autem omnis non amet'],\n",
       " [80, 'labore in ex et explicabo corporis aut quas'],\n",
       " [81, 'tempora rem veritatis voluptas quo dolores vero'],\n",
       " [82, 'laudantium voluptate suscipit sunt enim enim'],\n",
       " [83, 'odit et voluptates doloribus alias odio et'],\n",
       " [84,\n",
       "  'optio ipsam molestias necessitatibus occaecati facilis veritatis dolores aut'],\n",
       " [85, 'dolore veritatis porro provident adipisci blanditiis et sunt'],\n",
       " [86, 'placeat quia et porro iste'],\n",
       " [87, 'nostrum quis quasi placeat'],\n",
       " [88, 'sapiente omnis fugit eos'],\n",
       " [89, 'sint soluta et vel magnam aut ut sed qui'],\n",
       " [90, 'ad iusto omnis odit dolor voluptatibus'],\n",
       " [91, 'aut amet sed'],\n",
       " [92, 'ratione ex tenetur perferendis'],\n",
       " [93, 'beatae soluta recusandae'],\n",
       " [94, 'qui qui voluptates illo iste minima'],\n",
       " [95, 'id minus libero illum nam ad officiis'],\n",
       " [96, 'quaerat velit veniam amet cupiditate aut numquam ut sequi'],\n",
       " [97, 'quas fugiat ut perspiciatis vero provident'],\n",
       " [98, 'laboriosam dolor voluptates'],\n",
       " [99, 'temporibus sit alias delectus eligendi possimus magni'],\n",
       " [100, 'at nam consequatur ea labore ea harum']]"
      ]
     },
     "execution_count": 44,
     "metadata": {
      "tags": []
     },
     "output_type": "execute_result"
    }
   ],
   "source": [
    "a"
   ]
  },
  {
   "cell_type": "code",
   "execution_count": null,
   "metadata": {
    "colab": {
     "base_uri": "https://localhost:8080/"
    },
    "id": "7qXXVxjrwROZ",
    "outputId": "923d5513-5402-4e18-b898-04a133222d15"
   },
   "outputs": [
    {
     "data": {
      "text/plain": [
       "list"
      ]
     },
     "execution_count": 45,
     "metadata": {
      "tags": []
     },
     "output_type": "execute_result"
    }
   ],
   "source": [
    "type(a)"
   ]
  },
  {
   "cell_type": "code",
   "execution_count": null,
   "metadata": {
    "colab": {
     "base_uri": "https://localhost:8080/",
     "height": 419
    },
    "id": "I4h8CmH8wSlk",
    "outputId": "ad8ed628-b225-4940-b85f-c1a926818a3e"
   },
   "outputs": [
    {
     "data": {
      "text/html": [
       "<div>\n",
       "<style scoped>\n",
       "    .dataframe tbody tr th:only-of-type {\n",
       "        vertical-align: middle;\n",
       "    }\n",
       "\n",
       "    .dataframe tbody tr th {\n",
       "        vertical-align: top;\n",
       "    }\n",
       "\n",
       "    .dataframe thead th {\n",
       "        text-align: right;\n",
       "    }\n",
       "</style>\n",
       "<table border=\"1\" class=\"dataframe\">\n",
       "  <thead>\n",
       "    <tr style=\"text-align: right;\">\n",
       "      <th></th>\n",
       "      <th>0</th>\n",
       "      <th>1</th>\n",
       "    </tr>\n",
       "  </thead>\n",
       "  <tbody>\n",
       "    <tr>\n",
       "      <th>0</th>\n",
       "      <td>1</td>\n",
       "      <td>sunt aut facere repellat provident occaecati e...</td>\n",
       "    </tr>\n",
       "    <tr>\n",
       "      <th>1</th>\n",
       "      <td>2</td>\n",
       "      <td>qui est esse</td>\n",
       "    </tr>\n",
       "    <tr>\n",
       "      <th>2</th>\n",
       "      <td>3</td>\n",
       "      <td>ea molestias quasi exercitationem repellat qui...</td>\n",
       "    </tr>\n",
       "    <tr>\n",
       "      <th>3</th>\n",
       "      <td>4</td>\n",
       "      <td>eum et est occaecati</td>\n",
       "    </tr>\n",
       "    <tr>\n",
       "      <th>4</th>\n",
       "      <td>5</td>\n",
       "      <td>nesciunt quas odio</td>\n",
       "    </tr>\n",
       "    <tr>\n",
       "      <th>...</th>\n",
       "      <td>...</td>\n",
       "      <td>...</td>\n",
       "    </tr>\n",
       "    <tr>\n",
       "      <th>95</th>\n",
       "      <td>96</td>\n",
       "      <td>quaerat velit veniam amet cupiditate aut numqu...</td>\n",
       "    </tr>\n",
       "    <tr>\n",
       "      <th>96</th>\n",
       "      <td>97</td>\n",
       "      <td>quas fugiat ut perspiciatis vero provident</td>\n",
       "    </tr>\n",
       "    <tr>\n",
       "      <th>97</th>\n",
       "      <td>98</td>\n",
       "      <td>laboriosam dolor voluptates</td>\n",
       "    </tr>\n",
       "    <tr>\n",
       "      <th>98</th>\n",
       "      <td>99</td>\n",
       "      <td>temporibus sit alias delectus eligendi possimu...</td>\n",
       "    </tr>\n",
       "    <tr>\n",
       "      <th>99</th>\n",
       "      <td>100</td>\n",
       "      <td>at nam consequatur ea labore ea harum</td>\n",
       "    </tr>\n",
       "  </tbody>\n",
       "</table>\n",
       "<p>100 rows × 2 columns</p>\n",
       "</div>"
      ],
      "text/plain": [
       "      0                                                  1\n",
       "0     1  sunt aut facere repellat provident occaecati e...\n",
       "1     2                                       qui est esse\n",
       "2     3  ea molestias quasi exercitationem repellat qui...\n",
       "3     4                               eum et est occaecati\n",
       "4     5                                 nesciunt quas odio\n",
       "..  ...                                                ...\n",
       "95   96  quaerat velit veniam amet cupiditate aut numqu...\n",
       "96   97         quas fugiat ut perspiciatis vero provident\n",
       "97   98                        laboriosam dolor voluptates\n",
       "98   99  temporibus sit alias delectus eligendi possimu...\n",
       "99  100              at nam consequatur ea labore ea harum\n",
       "\n",
       "[100 rows x 2 columns]"
      ]
     },
     "execution_count": 46,
     "metadata": {
      "tags": []
     },
     "output_type": "execute_result"
    }
   ],
   "source": [
    "pd.DataFrame(a)"
   ]
  },
  {
   "cell_type": "code",
   "execution_count": null,
   "metadata": {
    "id": "Pw8h7nQJwVQu"
   },
   "outputs": [],
   "source": [
    "df = pd.DataFrame(a, columns = ['id', 'title'])"
   ]
  },
  {
   "cell_type": "code",
   "execution_count": null,
   "metadata": {
    "colab": {
     "base_uri": "https://localhost:8080/",
     "height": 419
    },
    "id": "W3S7Xl6Sax28",
    "outputId": "13f62431-1745-4b6e-9c29-f6ead47f906a"
   },
   "outputs": [
    {
     "data": {
      "text/html": [
       "<div>\n",
       "<style scoped>\n",
       "    .dataframe tbody tr th:only-of-type {\n",
       "        vertical-align: middle;\n",
       "    }\n",
       "\n",
       "    .dataframe tbody tr th {\n",
       "        vertical-align: top;\n",
       "    }\n",
       "\n",
       "    .dataframe thead th {\n",
       "        text-align: right;\n",
       "    }\n",
       "</style>\n",
       "<table border=\"1\" class=\"dataframe\">\n",
       "  <thead>\n",
       "    <tr style=\"text-align: right;\">\n",
       "      <th></th>\n",
       "      <th>id</th>\n",
       "      <th>title</th>\n",
       "    </tr>\n",
       "  </thead>\n",
       "  <tbody>\n",
       "    <tr>\n",
       "      <th>0</th>\n",
       "      <td>1</td>\n",
       "      <td>sunt aut facere repellat provident occaecati e...</td>\n",
       "    </tr>\n",
       "    <tr>\n",
       "      <th>1</th>\n",
       "      <td>2</td>\n",
       "      <td>qui est esse</td>\n",
       "    </tr>\n",
       "    <tr>\n",
       "      <th>2</th>\n",
       "      <td>3</td>\n",
       "      <td>ea molestias quasi exercitationem repellat qui...</td>\n",
       "    </tr>\n",
       "    <tr>\n",
       "      <th>3</th>\n",
       "      <td>4</td>\n",
       "      <td>eum et est occaecati</td>\n",
       "    </tr>\n",
       "    <tr>\n",
       "      <th>4</th>\n",
       "      <td>5</td>\n",
       "      <td>nesciunt quas odio</td>\n",
       "    </tr>\n",
       "    <tr>\n",
       "      <th>...</th>\n",
       "      <td>...</td>\n",
       "      <td>...</td>\n",
       "    </tr>\n",
       "    <tr>\n",
       "      <th>95</th>\n",
       "      <td>96</td>\n",
       "      <td>quaerat velit veniam amet cupiditate aut numqu...</td>\n",
       "    </tr>\n",
       "    <tr>\n",
       "      <th>96</th>\n",
       "      <td>97</td>\n",
       "      <td>quas fugiat ut perspiciatis vero provident</td>\n",
       "    </tr>\n",
       "    <tr>\n",
       "      <th>97</th>\n",
       "      <td>98</td>\n",
       "      <td>laboriosam dolor voluptates</td>\n",
       "    </tr>\n",
       "    <tr>\n",
       "      <th>98</th>\n",
       "      <td>99</td>\n",
       "      <td>temporibus sit alias delectus eligendi possimu...</td>\n",
       "    </tr>\n",
       "    <tr>\n",
       "      <th>99</th>\n",
       "      <td>100</td>\n",
       "      <td>at nam consequatur ea labore ea harum</td>\n",
       "    </tr>\n",
       "  </tbody>\n",
       "</table>\n",
       "<p>100 rows × 2 columns</p>\n",
       "</div>"
      ],
      "text/plain": [
       "     id                                              title\n",
       "0     1  sunt aut facere repellat provident occaecati e...\n",
       "1     2                                       qui est esse\n",
       "2     3  ea molestias quasi exercitationem repellat qui...\n",
       "3     4                               eum et est occaecati\n",
       "4     5                                 nesciunt quas odio\n",
       "..  ...                                                ...\n",
       "95   96  quaerat velit veniam amet cupiditate aut numqu...\n",
       "96   97         quas fugiat ut perspiciatis vero provident\n",
       "97   98                        laboriosam dolor voluptates\n",
       "98   99  temporibus sit alias delectus eligendi possimu...\n",
       "99  100              at nam consequatur ea labore ea harum\n",
       "\n",
       "[100 rows x 2 columns]"
      ]
     },
     "execution_count": 48,
     "metadata": {
      "tags": []
     },
     "output_type": "execute_result"
    }
   ],
   "source": [
    "df"
   ]
  },
  {
   "cell_type": "markdown",
   "metadata": {
    "id": "ghDdULlOP8S2"
   },
   "source": [
    "실습_todos"
   ]
  },
  {
   "cell_type": "code",
   "execution_count": null,
   "metadata": {
    "id": "cjntw4e3PLDb"
   },
   "outputs": [],
   "source": [
    "url = 'https://jsonplaceholder.typicode.com/todos'"
   ]
  },
  {
   "cell_type": "code",
   "execution_count": null,
   "metadata": {
    "id": "bXjUl60jPLHn"
   },
   "outputs": [],
   "source": [
    "data = requests.get(url).json()"
   ]
  },
  {
   "cell_type": "code",
   "execution_count": null,
   "metadata": {
    "id": "n_2wQnZ9QGCT"
   },
   "outputs": [],
   "source": [
    "df = []\n",
    "\n",
    "for i in range(len(data)) :\n",
    "\n",
    "    df.append([data[i]['id'], data[i]['userId'], data[i]['title'], data[i]['completed']])\n",
    "\n",
    "todos = pd.DataFrame(df, columns = ['id', 'userId', 'title', 'completed'])"
   ]
  },
  {
   "cell_type": "code",
   "execution_count": null,
   "metadata": {
    "colab": {
     "base_uri": "https://localhost:8080/",
     "height": 419
    },
    "id": "FfdEb918QGEn",
    "outputId": "1b565005-d771-4160-f362-25b894971a67"
   },
   "outputs": [
    {
     "data": {
      "text/html": [
       "<div>\n",
       "<style scoped>\n",
       "    .dataframe tbody tr th:only-of-type {\n",
       "        vertical-align: middle;\n",
       "    }\n",
       "\n",
       "    .dataframe tbody tr th {\n",
       "        vertical-align: top;\n",
       "    }\n",
       "\n",
       "    .dataframe thead th {\n",
       "        text-align: right;\n",
       "    }\n",
       "</style>\n",
       "<table border=\"1\" class=\"dataframe\">\n",
       "  <thead>\n",
       "    <tr style=\"text-align: right;\">\n",
       "      <th></th>\n",
       "      <th>id</th>\n",
       "      <th>userId</th>\n",
       "      <th>title</th>\n",
       "      <th>completed</th>\n",
       "    </tr>\n",
       "  </thead>\n",
       "  <tbody>\n",
       "    <tr>\n",
       "      <th>0</th>\n",
       "      <td>1</td>\n",
       "      <td>1</td>\n",
       "      <td>delectus aut autem</td>\n",
       "      <td>False</td>\n",
       "    </tr>\n",
       "    <tr>\n",
       "      <th>1</th>\n",
       "      <td>2</td>\n",
       "      <td>1</td>\n",
       "      <td>quis ut nam facilis et officia qui</td>\n",
       "      <td>False</td>\n",
       "    </tr>\n",
       "    <tr>\n",
       "      <th>2</th>\n",
       "      <td>3</td>\n",
       "      <td>1</td>\n",
       "      <td>fugiat veniam minus</td>\n",
       "      <td>False</td>\n",
       "    </tr>\n",
       "    <tr>\n",
       "      <th>3</th>\n",
       "      <td>4</td>\n",
       "      <td>1</td>\n",
       "      <td>et porro tempora</td>\n",
       "      <td>True</td>\n",
       "    </tr>\n",
       "    <tr>\n",
       "      <th>4</th>\n",
       "      <td>5</td>\n",
       "      <td>1</td>\n",
       "      <td>laboriosam mollitia et enim quasi adipisci qui...</td>\n",
       "      <td>False</td>\n",
       "    </tr>\n",
       "    <tr>\n",
       "      <th>...</th>\n",
       "      <td>...</td>\n",
       "      <td>...</td>\n",
       "      <td>...</td>\n",
       "      <td>...</td>\n",
       "    </tr>\n",
       "    <tr>\n",
       "      <th>195</th>\n",
       "      <td>196</td>\n",
       "      <td>10</td>\n",
       "      <td>consequuntur aut ut fugit similique</td>\n",
       "      <td>True</td>\n",
       "    </tr>\n",
       "    <tr>\n",
       "      <th>196</th>\n",
       "      <td>197</td>\n",
       "      <td>10</td>\n",
       "      <td>dignissimos quo nobis earum saepe</td>\n",
       "      <td>True</td>\n",
       "    </tr>\n",
       "    <tr>\n",
       "      <th>197</th>\n",
       "      <td>198</td>\n",
       "      <td>10</td>\n",
       "      <td>quis eius est sint explicabo</td>\n",
       "      <td>True</td>\n",
       "    </tr>\n",
       "    <tr>\n",
       "      <th>198</th>\n",
       "      <td>199</td>\n",
       "      <td>10</td>\n",
       "      <td>numquam repellendus a magnam</td>\n",
       "      <td>True</td>\n",
       "    </tr>\n",
       "    <tr>\n",
       "      <th>199</th>\n",
       "      <td>200</td>\n",
       "      <td>10</td>\n",
       "      <td>ipsam aperiam voluptates qui</td>\n",
       "      <td>False</td>\n",
       "    </tr>\n",
       "  </tbody>\n",
       "</table>\n",
       "<p>200 rows × 4 columns</p>\n",
       "</div>"
      ],
      "text/plain": [
       "      id  userId                                              title  completed\n",
       "0      1       1                                 delectus aut autem      False\n",
       "1      2       1                 quis ut nam facilis et officia qui      False\n",
       "2      3       1                                fugiat veniam minus      False\n",
       "3      4       1                                   et porro tempora       True\n",
       "4      5       1  laboriosam mollitia et enim quasi adipisci qui...      False\n",
       "..   ...     ...                                                ...        ...\n",
       "195  196      10                consequuntur aut ut fugit similique       True\n",
       "196  197      10                  dignissimos quo nobis earum saepe       True\n",
       "197  198      10                       quis eius est sint explicabo       True\n",
       "198  199      10                       numquam repellendus a magnam       True\n",
       "199  200      10                       ipsam aperiam voluptates qui      False\n",
       "\n",
       "[200 rows x 4 columns]"
      ]
     },
     "execution_count": 53,
     "metadata": {
      "tags": []
     },
     "output_type": "execute_result"
    }
   ],
   "source": [
    "todos"
   ]
  },
  {
   "cell_type": "markdown",
   "metadata": {
    "id": "lUe4-yQGssoD"
   },
   "source": [
    "4. WAMIS OPEN API"
   ]
  },
  {
   "cell_type": "code",
   "execution_count": null,
   "metadata": {
    "id": "_Odxug4CD8kH"
   },
   "outputs": [],
   "source": [
    "api_key = '개인 API 입력'"
   ]
  },
  {
   "cell_type": "code",
   "execution_count": null,
   "metadata": {
    "id": "727S3vJYD9Ka"
   },
   "outputs": [],
   "source": [
    "url = f'http://www.wamis.go.kr:8080/wamis/openapi/wks/wks_wiawaa_lst?admcd=11&output=json&key={api_key}'"
   ]
  },
  {
   "cell_type": "code",
   "execution_count": null,
   "metadata": {
    "colab": {
     "base_uri": "https://localhost:8080/"
    },
    "id": "uFWEDCIAGSFq",
    "outputId": "da8eca1b-2a5c-4696-e644-6b243539bd6b"
   },
   "outputs": [
    {
     "data": {
      "text/plain": [
       "<Response [200]>"
      ]
     },
     "execution_count": 61,
     "metadata": {
      "tags": []
     },
     "output_type": "execute_result"
    }
   ],
   "source": [
    "requests.get(url)"
   ]
  },
  {
   "cell_type": "code",
   "execution_count": null,
   "metadata": {
    "id": "NcPIAm90JCP9"
   },
   "outputs": [],
   "source": [
    "res = requests.get(url)"
   ]
  },
  {
   "cell_type": "code",
   "execution_count": null,
   "metadata": {
    "id": "g6Ib60NOGSH6"
   },
   "outputs": [],
   "source": [
    "data = res.json()"
   ]
  },
  {
   "cell_type": "code",
   "execution_count": null,
   "metadata": {
    "colab": {
     "base_uri": "https://localhost:8080/"
    },
    "id": "y-iIIuD_D9M6",
    "outputId": "067ae257-31fd-448e-c044-fbbe575b7465"
   },
   "outputs": [
    {
     "data": {
      "text/plain": [
       "{'count': 54,\n",
       " 'list': [{'afsum': '3975.9',\n",
       "   'indsum': '41156.6',\n",
       "   'total': '1193013.5',\n",
       "   'wssum': '1147881',\n",
       "   'year': '2018'},\n",
       "  {'afsum': '4389.7',\n",
       "   'indsum': '42014.1',\n",
       "   'total': '1180821.4',\n",
       "   'wssum': '1134417.6',\n",
       "   'year': '2017'},\n",
       "  {'afsum': '4767.5',\n",
       "   'indsum': '42174',\n",
       "   'total': '1195490.5',\n",
       "   'wssum': '1148549',\n",
       "   'year': '2016'},\n",
       "  {'afsum': '5878',\n",
       "   'indsum': '41484',\n",
       "   'total': '1196002.8',\n",
       "   'wssum': '1148640.8',\n",
       "   'year': '2015'},\n",
       "  {'afsum': '8283.9',\n",
       "   'indsum': '73617.5',\n",
       "   'total': '1228788.9',\n",
       "   'wssum': '1146887.5',\n",
       "   'year': '2014'},\n",
       "  {'afsum': '6822.2',\n",
       "   'indsum': '59176',\n",
       "   'total': '1225790',\n",
       "   'wssum': '1159791.8',\n",
       "   'year': '2013'},\n",
       "  {'afsum': '10668.3',\n",
       "   'indsum': '24665.4',\n",
       "   'total': '1206223.1',\n",
       "   'wssum': '1170889.4',\n",
       "   'year': '2012'},\n",
       "  {'afsum': '7765',\n",
       "   'indsum': '24709.4',\n",
       "   'total': '1219352.3',\n",
       "   'wssum': '1186877.9',\n",
       "   'year': '2011'},\n",
       "  {'afsum': '9549.7',\n",
       "   'indsum': '50633.1',\n",
       "   'total': '1253669.2',\n",
       "   'wssum': '1193486.4',\n",
       "   'year': '2010'},\n",
       "  {'afsum': '14896.9',\n",
       "   'indsum': '46198.5',\n",
       "   'total': '1255249.6',\n",
       "   'wssum': '1194154.2',\n",
       "   'year': '2009'},\n",
       "  {'afsum': '16296.6',\n",
       "   'indsum': '42583',\n",
       "   'total': '1267909.6',\n",
       "   'wssum': '1209030',\n",
       "   'year': '2008'},\n",
       "  {'afsum': '24889.7',\n",
       "   'indsum': '47846.3',\n",
       "   'total': '1294042.5',\n",
       "   'wssum': '1221306.5',\n",
       "   'year': '2007'},\n",
       "  {'afsum': '16256',\n",
       "   'indsum': '49071.6',\n",
       "   'total': '1312215',\n",
       "   'wssum': '1246887.4',\n",
       "   'year': '2006'},\n",
       "  {'afsum': '17089',\n",
       "   'indsum': '49930.9',\n",
       "   'total': '1376206.5',\n",
       "   'wssum': '1309186.6',\n",
       "   'year': '2005'},\n",
       "  {'afsum': '18460.9',\n",
       "   'indsum': '17883.4',\n",
       "   'total': '1373856.3',\n",
       "   'wssum': '1337512',\n",
       "   'year': '2004'},\n",
       "  {'afsum': '17623',\n",
       "   'indsum': '17449.2',\n",
       "   'total': '1402144',\n",
       "   'wssum': '1367071.8',\n",
       "   'year': '2003'},\n",
       "  {'afsum': '19530.1',\n",
       "   'indsum': '17751',\n",
       "   'total': '1456227.8',\n",
       "   'wssum': '1418946.7',\n",
       "   'year': '2002'},\n",
       "  {'afsum': '23532.1',\n",
       "   'indsum': '18830',\n",
       "   'total': '1554158.2',\n",
       "   'wssum': '1511796.1',\n",
       "   'year': '2001'},\n",
       "  {'afsum': '23433.4',\n",
       "   'indsum': '19939.4',\n",
       "   'total': '1599779.9',\n",
       "   'wssum': '1556407.1',\n",
       "   'year': '2000'},\n",
       "  {'afsum': '24251.7',\n",
       "   'indsum': '19650.3',\n",
       "   'total': '1667133.5',\n",
       "   'wssum': '1623231.5',\n",
       "   'year': '1999'},\n",
       "  {'afsum': '24062.8',\n",
       "   'indsum': '18132.2',\n",
       "   'total': '1748540.4',\n",
       "   'wssum': '1706345.4',\n",
       "   'year': '1998'},\n",
       "  {'afsum': '25845',\n",
       "   'indsum': '20819.7',\n",
       "   'total': '1868830.1',\n",
       "   'wssum': '1822165.4',\n",
       "   'year': '1997'},\n",
       "  {'afsum': '24182.3',\n",
       "   'indsum': '21517.5',\n",
       "   'total': '1908470.7',\n",
       "   'wssum': '1862770.9',\n",
       "   'year': '1996'},\n",
       "  {'afsum': '24783',\n",
       "   'indsum': '21802.2',\n",
       "   'total': '1891333.5',\n",
       "   'wssum': '1844748.3',\n",
       "   'year': '1995'},\n",
       "  {'afsum': '27288.2',\n",
       "   'indsum': '21805.8',\n",
       "   'total': '1944487.9',\n",
       "   'wssum': '1895393.9',\n",
       "   'year': '1994'},\n",
       "  {'afsum': '26035.5',\n",
       "   'indsum': '21668.7',\n",
       "   'total': '1904271.2',\n",
       "   'wssum': '1856567',\n",
       "   'year': '1993'},\n",
       "  {'afsum': '28617.5',\n",
       "   'indsum': '22295.1',\n",
       "   'total': '1898646.3',\n",
       "   'wssum': '1847733.7',\n",
       "   'year': '1992'},\n",
       "  {'afsum': '30249.2',\n",
       "   'indsum': '23010.8',\n",
       "   'total': '1869872.6',\n",
       "   'wssum': '1816612.6',\n",
       "   'year': '1991'},\n",
       "  {'afsum': '30170.3',\n",
       "   'indsum': '23220.8',\n",
       "   'total': '1839070.5',\n",
       "   'wssum': '1785679.4',\n",
       "   'year': '1990'},\n",
       "  {'afsum': '34979.9',\n",
       "   'indsum': '23024.7',\n",
       "   'total': '1711617.1',\n",
       "   'wssum': '1653612.5',\n",
       "   'year': '1989'},\n",
       "  {'afsum': '37686.1',\n",
       "   'indsum': '24087',\n",
       "   'total': '1621097',\n",
       "   'wssum': '1559323.9',\n",
       "   'year': '1988'},\n",
       "  {'afsum': '34484.1',\n",
       "   'indsum': '25112.9',\n",
       "   'total': '1508834.2',\n",
       "   'wssum': '1449237.2',\n",
       "   'year': '1987'},\n",
       "  {'afsum': '34503.7',\n",
       "   'indsum': '24569.6',\n",
       "   'total': '1441337.8',\n",
       "   'wssum': '1382264.5',\n",
       "   'year': '1986'},\n",
       "  {'afsum': '36819.1',\n",
       "   'indsum': '23465.3',\n",
       "   'total': '1319654.9',\n",
       "   'wssum': '1259370.5',\n",
       "   'year': '1985'},\n",
       "  {'afsum': '37848.4',\n",
       "   'indsum': '23906.4',\n",
       "   'total': '1334109.7',\n",
       "   'wssum': '1272354.9',\n",
       "   'year': '1984'},\n",
       "  {'afsum': '38599',\n",
       "   'indsum': '22935.4',\n",
       "   'total': '1247780.3',\n",
       "   'wssum': '1186245.9',\n",
       "   'year': '1983'},\n",
       "  {'afsum': '54960.6',\n",
       "   'indsum': '22334.8',\n",
       "   'total': '1208007.1',\n",
       "   'wssum': '1130711.7',\n",
       "   'year': '1982'},\n",
       "  {'afsum': '58599.3',\n",
       "   'indsum': '22434.3',\n",
       "   'total': '1143795.9',\n",
       "   'wssum': '1062762.3',\n",
       "   'year': '1981'},\n",
       "  {'afsum': '55728.3',\n",
       "   'indsum': '22379.7',\n",
       "   'total': '1065705.5',\n",
       "   'wssum': '987597.5',\n",
       "   'year': '1980'},\n",
       "  {'afsum': '61872.3',\n",
       "   'indsum': '23483.6',\n",
       "   'total': '975438.7',\n",
       "   'wssum': '890082.8',\n",
       "   'year': '1979'},\n",
       "  {'afsum': '67912.5',\n",
       "   'indsum': '27753.6',\n",
       "   'total': '969434.9',\n",
       "   'wssum': '873768.8',\n",
       "   'year': '1978'},\n",
       "  {'afsum': '77893.4',\n",
       "   'indsum': '27713.3',\n",
       "   'total': '801170.7',\n",
       "   'wssum': '695564',\n",
       "   'year': '1977'},\n",
       "  {'afsum': '75971.2',\n",
       "   'indsum': '27613.5',\n",
       "   'total': '780805.4',\n",
       "   'wssum': '677220.7',\n",
       "   'year': '1976'},\n",
       "  {'afsum': '78749.7',\n",
       "   'indsum': '22572.4',\n",
       "   'total': '774395.1',\n",
       "   'wssum': '673073',\n",
       "   'year': '1975'},\n",
       "  {'afsum': '79946.6',\n",
       "   'indsum': '21280.4',\n",
       "   'total': '601475.1',\n",
       "   'wssum': '500248.1',\n",
       "   'year': '1974'},\n",
       "  {'afsum': '88492.7',\n",
       "   'indsum': '19065.8',\n",
       "   'total': '547897.5',\n",
       "   'wssum': '440339',\n",
       "   'year': '1973'},\n",
       "  {'afsum': '90912.4',\n",
       "   'indsum': '59195.2',\n",
       "   'total': '572118.7',\n",
       "   'wssum': '422011.1',\n",
       "   'year': '1972'},\n",
       "  {'afsum': '88044.3',\n",
       "   'indsum': '56997.2',\n",
       "   'total': '553865.5',\n",
       "   'wssum': '408824',\n",
       "   'year': '1971'},\n",
       "  {'afsum': '107017.4',\n",
       "   'indsum': '55674.3',\n",
       "   'total': '512723.3',\n",
       "   'wssum': '350031.6',\n",
       "   'year': '1970'},\n",
       "  {'afsum': '132103.6',\n",
       "   'indsum': '53740.3',\n",
       "   'total': '478751.3',\n",
       "   'wssum': '292907.4',\n",
       "   'year': '1969'},\n",
       "  {'afsum': '149830.3',\n",
       "   'indsum': '52091.8',\n",
       "   'total': '442162.3',\n",
       "   'wssum': '240240.2',\n",
       "   'year': '1968'},\n",
       "  {'afsum': '156317.4',\n",
       "   'indsum': '50447.5',\n",
       "   'total': '404979.9',\n",
       "   'wssum': '198215',\n",
       "   'year': '1967'},\n",
       "  {'afsum': '160305.7',\n",
       "   'indsum': '48865',\n",
       "   'total': '379926.7',\n",
       "   'wssum': '170756',\n",
       "   'year': '1966'},\n",
       "  {'afsum': '172190.8',\n",
       "   'indsum': '47148.5',\n",
       "   'total': '358968.6',\n",
       "   'wssum': '139629.3',\n",
       "   'year': '1965'}],\n",
       " 'result': {'code': 'success', 'msg': '완료되었습니다!'}}"
      ]
     },
     "execution_count": 64,
     "metadata": {
      "tags": []
     },
     "output_type": "execute_result"
    }
   ],
   "source": [
    "data"
   ]
  },
  {
   "cell_type": "code",
   "execution_count": null,
   "metadata": {
    "colab": {
     "base_uri": "https://localhost:8080/"
    },
    "id": "ZbUQQ14CFggw",
    "outputId": "bfe9698f-4252-47a8-8030-e47e8029def3"
   },
   "outputs": [
    {
     "data": {
      "text/plain": [
       "[{'afsum': '3975.9',\n",
       "  'indsum': '41156.6',\n",
       "  'total': '1193013.5',\n",
       "  'wssum': '1147881',\n",
       "  'year': '2018'},\n",
       " {'afsum': '4389.7',\n",
       "  'indsum': '42014.1',\n",
       "  'total': '1180821.4',\n",
       "  'wssum': '1134417.6',\n",
       "  'year': '2017'},\n",
       " {'afsum': '4767.5',\n",
       "  'indsum': '42174',\n",
       "  'total': '1195490.5',\n",
       "  'wssum': '1148549',\n",
       "  'year': '2016'},\n",
       " {'afsum': '5878',\n",
       "  'indsum': '41484',\n",
       "  'total': '1196002.8',\n",
       "  'wssum': '1148640.8',\n",
       "  'year': '2015'},\n",
       " {'afsum': '8283.9',\n",
       "  'indsum': '73617.5',\n",
       "  'total': '1228788.9',\n",
       "  'wssum': '1146887.5',\n",
       "  'year': '2014'},\n",
       " {'afsum': '6822.2',\n",
       "  'indsum': '59176',\n",
       "  'total': '1225790',\n",
       "  'wssum': '1159791.8',\n",
       "  'year': '2013'},\n",
       " {'afsum': '10668.3',\n",
       "  'indsum': '24665.4',\n",
       "  'total': '1206223.1',\n",
       "  'wssum': '1170889.4',\n",
       "  'year': '2012'},\n",
       " {'afsum': '7765',\n",
       "  'indsum': '24709.4',\n",
       "  'total': '1219352.3',\n",
       "  'wssum': '1186877.9',\n",
       "  'year': '2011'},\n",
       " {'afsum': '9549.7',\n",
       "  'indsum': '50633.1',\n",
       "  'total': '1253669.2',\n",
       "  'wssum': '1193486.4',\n",
       "  'year': '2010'},\n",
       " {'afsum': '14896.9',\n",
       "  'indsum': '46198.5',\n",
       "  'total': '1255249.6',\n",
       "  'wssum': '1194154.2',\n",
       "  'year': '2009'},\n",
       " {'afsum': '16296.6',\n",
       "  'indsum': '42583',\n",
       "  'total': '1267909.6',\n",
       "  'wssum': '1209030',\n",
       "  'year': '2008'},\n",
       " {'afsum': '24889.7',\n",
       "  'indsum': '47846.3',\n",
       "  'total': '1294042.5',\n",
       "  'wssum': '1221306.5',\n",
       "  'year': '2007'},\n",
       " {'afsum': '16256',\n",
       "  'indsum': '49071.6',\n",
       "  'total': '1312215',\n",
       "  'wssum': '1246887.4',\n",
       "  'year': '2006'},\n",
       " {'afsum': '17089',\n",
       "  'indsum': '49930.9',\n",
       "  'total': '1376206.5',\n",
       "  'wssum': '1309186.6',\n",
       "  'year': '2005'},\n",
       " {'afsum': '18460.9',\n",
       "  'indsum': '17883.4',\n",
       "  'total': '1373856.3',\n",
       "  'wssum': '1337512',\n",
       "  'year': '2004'},\n",
       " {'afsum': '17623',\n",
       "  'indsum': '17449.2',\n",
       "  'total': '1402144',\n",
       "  'wssum': '1367071.8',\n",
       "  'year': '2003'},\n",
       " {'afsum': '19530.1',\n",
       "  'indsum': '17751',\n",
       "  'total': '1456227.8',\n",
       "  'wssum': '1418946.7',\n",
       "  'year': '2002'},\n",
       " {'afsum': '23532.1',\n",
       "  'indsum': '18830',\n",
       "  'total': '1554158.2',\n",
       "  'wssum': '1511796.1',\n",
       "  'year': '2001'},\n",
       " {'afsum': '23433.4',\n",
       "  'indsum': '19939.4',\n",
       "  'total': '1599779.9',\n",
       "  'wssum': '1556407.1',\n",
       "  'year': '2000'},\n",
       " {'afsum': '24251.7',\n",
       "  'indsum': '19650.3',\n",
       "  'total': '1667133.5',\n",
       "  'wssum': '1623231.5',\n",
       "  'year': '1999'},\n",
       " {'afsum': '24062.8',\n",
       "  'indsum': '18132.2',\n",
       "  'total': '1748540.4',\n",
       "  'wssum': '1706345.4',\n",
       "  'year': '1998'},\n",
       " {'afsum': '25845',\n",
       "  'indsum': '20819.7',\n",
       "  'total': '1868830.1',\n",
       "  'wssum': '1822165.4',\n",
       "  'year': '1997'},\n",
       " {'afsum': '24182.3',\n",
       "  'indsum': '21517.5',\n",
       "  'total': '1908470.7',\n",
       "  'wssum': '1862770.9',\n",
       "  'year': '1996'},\n",
       " {'afsum': '24783',\n",
       "  'indsum': '21802.2',\n",
       "  'total': '1891333.5',\n",
       "  'wssum': '1844748.3',\n",
       "  'year': '1995'},\n",
       " {'afsum': '27288.2',\n",
       "  'indsum': '21805.8',\n",
       "  'total': '1944487.9',\n",
       "  'wssum': '1895393.9',\n",
       "  'year': '1994'},\n",
       " {'afsum': '26035.5',\n",
       "  'indsum': '21668.7',\n",
       "  'total': '1904271.2',\n",
       "  'wssum': '1856567',\n",
       "  'year': '1993'},\n",
       " {'afsum': '28617.5',\n",
       "  'indsum': '22295.1',\n",
       "  'total': '1898646.3',\n",
       "  'wssum': '1847733.7',\n",
       "  'year': '1992'},\n",
       " {'afsum': '30249.2',\n",
       "  'indsum': '23010.8',\n",
       "  'total': '1869872.6',\n",
       "  'wssum': '1816612.6',\n",
       "  'year': '1991'},\n",
       " {'afsum': '30170.3',\n",
       "  'indsum': '23220.8',\n",
       "  'total': '1839070.5',\n",
       "  'wssum': '1785679.4',\n",
       "  'year': '1990'},\n",
       " {'afsum': '34979.9',\n",
       "  'indsum': '23024.7',\n",
       "  'total': '1711617.1',\n",
       "  'wssum': '1653612.5',\n",
       "  'year': '1989'},\n",
       " {'afsum': '37686.1',\n",
       "  'indsum': '24087',\n",
       "  'total': '1621097',\n",
       "  'wssum': '1559323.9',\n",
       "  'year': '1988'},\n",
       " {'afsum': '34484.1',\n",
       "  'indsum': '25112.9',\n",
       "  'total': '1508834.2',\n",
       "  'wssum': '1449237.2',\n",
       "  'year': '1987'},\n",
       " {'afsum': '34503.7',\n",
       "  'indsum': '24569.6',\n",
       "  'total': '1441337.8',\n",
       "  'wssum': '1382264.5',\n",
       "  'year': '1986'},\n",
       " {'afsum': '36819.1',\n",
       "  'indsum': '23465.3',\n",
       "  'total': '1319654.9',\n",
       "  'wssum': '1259370.5',\n",
       "  'year': '1985'},\n",
       " {'afsum': '37848.4',\n",
       "  'indsum': '23906.4',\n",
       "  'total': '1334109.7',\n",
       "  'wssum': '1272354.9',\n",
       "  'year': '1984'},\n",
       " {'afsum': '38599',\n",
       "  'indsum': '22935.4',\n",
       "  'total': '1247780.3',\n",
       "  'wssum': '1186245.9',\n",
       "  'year': '1983'},\n",
       " {'afsum': '54960.6',\n",
       "  'indsum': '22334.8',\n",
       "  'total': '1208007.1',\n",
       "  'wssum': '1130711.7',\n",
       "  'year': '1982'},\n",
       " {'afsum': '58599.3',\n",
       "  'indsum': '22434.3',\n",
       "  'total': '1143795.9',\n",
       "  'wssum': '1062762.3',\n",
       "  'year': '1981'},\n",
       " {'afsum': '55728.3',\n",
       "  'indsum': '22379.7',\n",
       "  'total': '1065705.5',\n",
       "  'wssum': '987597.5',\n",
       "  'year': '1980'},\n",
       " {'afsum': '61872.3',\n",
       "  'indsum': '23483.6',\n",
       "  'total': '975438.7',\n",
       "  'wssum': '890082.8',\n",
       "  'year': '1979'},\n",
       " {'afsum': '67912.5',\n",
       "  'indsum': '27753.6',\n",
       "  'total': '969434.9',\n",
       "  'wssum': '873768.8',\n",
       "  'year': '1978'},\n",
       " {'afsum': '77893.4',\n",
       "  'indsum': '27713.3',\n",
       "  'total': '801170.7',\n",
       "  'wssum': '695564',\n",
       "  'year': '1977'},\n",
       " {'afsum': '75971.2',\n",
       "  'indsum': '27613.5',\n",
       "  'total': '780805.4',\n",
       "  'wssum': '677220.7',\n",
       "  'year': '1976'},\n",
       " {'afsum': '78749.7',\n",
       "  'indsum': '22572.4',\n",
       "  'total': '774395.1',\n",
       "  'wssum': '673073',\n",
       "  'year': '1975'},\n",
       " {'afsum': '79946.6',\n",
       "  'indsum': '21280.4',\n",
       "  'total': '601475.1',\n",
       "  'wssum': '500248.1',\n",
       "  'year': '1974'},\n",
       " {'afsum': '88492.7',\n",
       "  'indsum': '19065.8',\n",
       "  'total': '547897.5',\n",
       "  'wssum': '440339',\n",
       "  'year': '1973'},\n",
       " {'afsum': '90912.4',\n",
       "  'indsum': '59195.2',\n",
       "  'total': '572118.7',\n",
       "  'wssum': '422011.1',\n",
       "  'year': '1972'},\n",
       " {'afsum': '88044.3',\n",
       "  'indsum': '56997.2',\n",
       "  'total': '553865.5',\n",
       "  'wssum': '408824',\n",
       "  'year': '1971'},\n",
       " {'afsum': '107017.4',\n",
       "  'indsum': '55674.3',\n",
       "  'total': '512723.3',\n",
       "  'wssum': '350031.6',\n",
       "  'year': '1970'},\n",
       " {'afsum': '132103.6',\n",
       "  'indsum': '53740.3',\n",
       "  'total': '478751.3',\n",
       "  'wssum': '292907.4',\n",
       "  'year': '1969'},\n",
       " {'afsum': '149830.3',\n",
       "  'indsum': '52091.8',\n",
       "  'total': '442162.3',\n",
       "  'wssum': '240240.2',\n",
       "  'year': '1968'},\n",
       " {'afsum': '156317.4',\n",
       "  'indsum': '50447.5',\n",
       "  'total': '404979.9',\n",
       "  'wssum': '198215',\n",
       "  'year': '1967'},\n",
       " {'afsum': '160305.7',\n",
       "  'indsum': '48865',\n",
       "  'total': '379926.7',\n",
       "  'wssum': '170756',\n",
       "  'year': '1966'},\n",
       " {'afsum': '172190.8',\n",
       "  'indsum': '47148.5',\n",
       "  'total': '358968.6',\n",
       "  'wssum': '139629.3',\n",
       "  'year': '1965'}]"
      ]
     },
     "execution_count": 65,
     "metadata": {
      "tags": []
     },
     "output_type": "execute_result"
    }
   ],
   "source": [
    " data['list']"
   ]
  },
  {
   "cell_type": "code",
   "execution_count": null,
   "metadata": {
    "colab": {
     "base_uri": "https://localhost:8080/"
    },
    "id": "l-bVtXFCFmAy",
    "outputId": "4b3e0c01-69af-4f88-f87e-7bdcbe6b597c"
   },
   "outputs": [
    {
     "data": {
      "text/plain": [
       "{'afsum': '3975.9',\n",
       " 'indsum': '41156.6',\n",
       " 'total': '1193013.5',\n",
       " 'wssum': '1147881',\n",
       " 'year': '2018'}"
      ]
     },
     "execution_count": 66,
     "metadata": {
      "tags": []
     },
     "output_type": "execute_result"
    }
   ],
   "source": [
    "data['list'][0]"
   ]
  },
  {
   "cell_type": "code",
   "execution_count": null,
   "metadata": {
    "colab": {
     "base_uri": "https://localhost:8080/",
     "height": 35
    },
    "id": "NGi4g9p_FmDD",
    "outputId": "fe55c02f-5c1b-4863-c571-759c11a5fbff"
   },
   "outputs": [
    {
     "data": {
      "application/vnd.google.colaboratory.intrinsic+json": {
       "type": "string"
      },
      "text/plain": [
       "'2018'"
      ]
     },
     "execution_count": 67,
     "metadata": {
      "tags": []
     },
     "output_type": "execute_result"
    }
   ],
   "source": [
    " data['list'][0]['year']"
   ]
  },
  {
   "cell_type": "code",
   "execution_count": null,
   "metadata": {
    "colab": {
     "base_uri": "https://localhost:8080/",
     "height": 35
    },
    "id": "oS5Ti7PGFrwk",
    "outputId": "ac76a216-5c79-48b6-8c64-d4ea3f6d2e67"
   },
   "outputs": [
    {
     "data": {
      "application/vnd.google.colaboratory.intrinsic+json": {
       "type": "string"
      },
      "text/plain": [
       "'1193013.5'"
      ]
     },
     "execution_count": 68,
     "metadata": {
      "tags": []
     },
     "output_type": "execute_result"
    }
   ],
   "source": [
    " data['list'][0]['total']"
   ]
  },
  {
   "cell_type": "code",
   "execution_count": null,
   "metadata": {
    "colab": {
     "base_uri": "https://localhost:8080/",
     "height": 35
    },
    "id": "hqYRR-GhFuda",
    "outputId": "dcc58651-204e-47c4-9c9a-52d905d9569f"
   },
   "outputs": [
    {
     "data": {
      "application/vnd.google.colaboratory.intrinsic+json": {
       "type": "string"
      },
      "text/plain": [
       "'1147881'"
      ]
     },
     "execution_count": 69,
     "metadata": {
      "tags": []
     },
     "output_type": "execute_result"
    }
   ],
   "source": [
    " data['list'][0]['wssum']"
   ]
  },
  {
   "cell_type": "code",
   "execution_count": null,
   "metadata": {
    "colab": {
     "base_uri": "https://localhost:8080/",
     "height": 35
    },
    "id": "wqJvRx1dFuf4",
    "outputId": "1a92f1d0-dab9-4c64-9794-643db8c72c89"
   },
   "outputs": [
    {
     "data": {
      "application/vnd.google.colaboratory.intrinsic+json": {
       "type": "string"
      },
      "text/plain": [
       "'41156.6'"
      ]
     },
     "execution_count": 70,
     "metadata": {
      "tags": []
     },
     "output_type": "execute_result"
    }
   ],
   "source": [
    " data['list'][0]['indsum']"
   ]
  },
  {
   "cell_type": "code",
   "execution_count": null,
   "metadata": {
    "colab": {
     "base_uri": "https://localhost:8080/",
     "height": 35
    },
    "id": "MKJscF7CFuiV",
    "outputId": "801f599b-b0d1-43cf-ebd6-c0d171d243ef"
   },
   "outputs": [
    {
     "data": {
      "application/vnd.google.colaboratory.intrinsic+json": {
       "type": "string"
      },
      "text/plain": [
       "'3975.9'"
      ]
     },
     "execution_count": 71,
     "metadata": {
      "tags": []
     },
     "output_type": "execute_result"
    }
   ],
   "source": [
    " data['list'][0]['afsum']"
   ]
  },
  {
   "cell_type": "markdown",
   "metadata": {
    "id": "atA4IEPLGlHk"
   },
   "source": [
    "5. 실습\n",
    "\n",
    "5.1.   서울시(11) 모든 데이터 가져오기"
   ]
  },
  {
   "cell_type": "code",
   "execution_count": null,
   "metadata": {
    "id": "tcyYXt7yJsEQ"
   },
   "outputs": [],
   "source": [
    "  df = []\n",
    "  url = f'http://www.wamis.go.kr:8080/wamis/openapi/wks/wks_wiawaa_lst?admcd=11&output=json&key={api_key}'\n",
    "  res = requests.get(url)\n",
    "\n",
    "  data = res.json()\n",
    "    \n",
    "  for i in range(data['count']) :\n",
    "      df.append([data['list'][i]['year'], data['list'][i]['total'], data['list'][i]['wssum'], data['list'][i]['indsum'], data['list'][i]['afsum']])\n",
    "  \n",
    "  seoul = pd.DataFrame(df, columns= ['year', 'total', 'wssum', 'indsum', 'afsum'])"
   ]
  },
  {
   "cell_type": "code",
   "execution_count": null,
   "metadata": {
    "colab": {
     "base_uri": "https://localhost:8080/",
     "height": 1000
    },
    "id": "JeyUV_0sKB5V",
    "outputId": "1350cef4-e7e6-48aa-8989-7eed35ab56df"
   },
   "outputs": [
    {
     "data": {
      "text/html": [
       "<div>\n",
       "<style scoped>\n",
       "    .dataframe tbody tr th:only-of-type {\n",
       "        vertical-align: middle;\n",
       "    }\n",
       "\n",
       "    .dataframe tbody tr th {\n",
       "        vertical-align: top;\n",
       "    }\n",
       "\n",
       "    .dataframe thead th {\n",
       "        text-align: right;\n",
       "    }\n",
       "</style>\n",
       "<table border=\"1\" class=\"dataframe\">\n",
       "  <thead>\n",
       "    <tr style=\"text-align: right;\">\n",
       "      <th></th>\n",
       "      <th>year</th>\n",
       "      <th>total</th>\n",
       "      <th>wssum</th>\n",
       "      <th>indsum</th>\n",
       "      <th>afsum</th>\n",
       "    </tr>\n",
       "  </thead>\n",
       "  <tbody>\n",
       "    <tr>\n",
       "      <th>0</th>\n",
       "      <td>2018</td>\n",
       "      <td>1193013.5</td>\n",
       "      <td>1147881</td>\n",
       "      <td>41156.6</td>\n",
       "      <td>3975.9</td>\n",
       "    </tr>\n",
       "    <tr>\n",
       "      <th>1</th>\n",
       "      <td>2017</td>\n",
       "      <td>1180821.4</td>\n",
       "      <td>1134417.6</td>\n",
       "      <td>42014.1</td>\n",
       "      <td>4389.7</td>\n",
       "    </tr>\n",
       "    <tr>\n",
       "      <th>2</th>\n",
       "      <td>2016</td>\n",
       "      <td>1195490.5</td>\n",
       "      <td>1148549</td>\n",
       "      <td>42174</td>\n",
       "      <td>4767.5</td>\n",
       "    </tr>\n",
       "    <tr>\n",
       "      <th>3</th>\n",
       "      <td>2015</td>\n",
       "      <td>1196002.8</td>\n",
       "      <td>1148640.8</td>\n",
       "      <td>41484</td>\n",
       "      <td>5878</td>\n",
       "    </tr>\n",
       "    <tr>\n",
       "      <th>4</th>\n",
       "      <td>2014</td>\n",
       "      <td>1228788.9</td>\n",
       "      <td>1146887.5</td>\n",
       "      <td>73617.5</td>\n",
       "      <td>8283.9</td>\n",
       "    </tr>\n",
       "    <tr>\n",
       "      <th>5</th>\n",
       "      <td>2013</td>\n",
       "      <td>1225790</td>\n",
       "      <td>1159791.8</td>\n",
       "      <td>59176</td>\n",
       "      <td>6822.2</td>\n",
       "    </tr>\n",
       "    <tr>\n",
       "      <th>6</th>\n",
       "      <td>2012</td>\n",
       "      <td>1206223.1</td>\n",
       "      <td>1170889.4</td>\n",
       "      <td>24665.4</td>\n",
       "      <td>10668.3</td>\n",
       "    </tr>\n",
       "    <tr>\n",
       "      <th>7</th>\n",
       "      <td>2011</td>\n",
       "      <td>1219352.3</td>\n",
       "      <td>1186877.9</td>\n",
       "      <td>24709.4</td>\n",
       "      <td>7765</td>\n",
       "    </tr>\n",
       "    <tr>\n",
       "      <th>8</th>\n",
       "      <td>2010</td>\n",
       "      <td>1253669.2</td>\n",
       "      <td>1193486.4</td>\n",
       "      <td>50633.1</td>\n",
       "      <td>9549.7</td>\n",
       "    </tr>\n",
       "    <tr>\n",
       "      <th>9</th>\n",
       "      <td>2009</td>\n",
       "      <td>1255249.6</td>\n",
       "      <td>1194154.2</td>\n",
       "      <td>46198.5</td>\n",
       "      <td>14896.9</td>\n",
       "    </tr>\n",
       "    <tr>\n",
       "      <th>10</th>\n",
       "      <td>2008</td>\n",
       "      <td>1267909.6</td>\n",
       "      <td>1209030</td>\n",
       "      <td>42583</td>\n",
       "      <td>16296.6</td>\n",
       "    </tr>\n",
       "    <tr>\n",
       "      <th>11</th>\n",
       "      <td>2007</td>\n",
       "      <td>1294042.5</td>\n",
       "      <td>1221306.5</td>\n",
       "      <td>47846.3</td>\n",
       "      <td>24889.7</td>\n",
       "    </tr>\n",
       "    <tr>\n",
       "      <th>12</th>\n",
       "      <td>2006</td>\n",
       "      <td>1312215</td>\n",
       "      <td>1246887.4</td>\n",
       "      <td>49071.6</td>\n",
       "      <td>16256</td>\n",
       "    </tr>\n",
       "    <tr>\n",
       "      <th>13</th>\n",
       "      <td>2005</td>\n",
       "      <td>1376206.5</td>\n",
       "      <td>1309186.6</td>\n",
       "      <td>49930.9</td>\n",
       "      <td>17089</td>\n",
       "    </tr>\n",
       "    <tr>\n",
       "      <th>14</th>\n",
       "      <td>2004</td>\n",
       "      <td>1373856.3</td>\n",
       "      <td>1337512</td>\n",
       "      <td>17883.4</td>\n",
       "      <td>18460.9</td>\n",
       "    </tr>\n",
       "    <tr>\n",
       "      <th>15</th>\n",
       "      <td>2003</td>\n",
       "      <td>1402144</td>\n",
       "      <td>1367071.8</td>\n",
       "      <td>17449.2</td>\n",
       "      <td>17623</td>\n",
       "    </tr>\n",
       "    <tr>\n",
       "      <th>16</th>\n",
       "      <td>2002</td>\n",
       "      <td>1456227.8</td>\n",
       "      <td>1418946.7</td>\n",
       "      <td>17751</td>\n",
       "      <td>19530.1</td>\n",
       "    </tr>\n",
       "    <tr>\n",
       "      <th>17</th>\n",
       "      <td>2001</td>\n",
       "      <td>1554158.2</td>\n",
       "      <td>1511796.1</td>\n",
       "      <td>18830</td>\n",
       "      <td>23532.1</td>\n",
       "    </tr>\n",
       "    <tr>\n",
       "      <th>18</th>\n",
       "      <td>2000</td>\n",
       "      <td>1599779.9</td>\n",
       "      <td>1556407.1</td>\n",
       "      <td>19939.4</td>\n",
       "      <td>23433.4</td>\n",
       "    </tr>\n",
       "    <tr>\n",
       "      <th>19</th>\n",
       "      <td>1999</td>\n",
       "      <td>1667133.5</td>\n",
       "      <td>1623231.5</td>\n",
       "      <td>19650.3</td>\n",
       "      <td>24251.7</td>\n",
       "    </tr>\n",
       "    <tr>\n",
       "      <th>20</th>\n",
       "      <td>1998</td>\n",
       "      <td>1748540.4</td>\n",
       "      <td>1706345.4</td>\n",
       "      <td>18132.2</td>\n",
       "      <td>24062.8</td>\n",
       "    </tr>\n",
       "    <tr>\n",
       "      <th>21</th>\n",
       "      <td>1997</td>\n",
       "      <td>1868830.1</td>\n",
       "      <td>1822165.4</td>\n",
       "      <td>20819.7</td>\n",
       "      <td>25845</td>\n",
       "    </tr>\n",
       "    <tr>\n",
       "      <th>22</th>\n",
       "      <td>1996</td>\n",
       "      <td>1908470.7</td>\n",
       "      <td>1862770.9</td>\n",
       "      <td>21517.5</td>\n",
       "      <td>24182.3</td>\n",
       "    </tr>\n",
       "    <tr>\n",
       "      <th>23</th>\n",
       "      <td>1995</td>\n",
       "      <td>1891333.5</td>\n",
       "      <td>1844748.3</td>\n",
       "      <td>21802.2</td>\n",
       "      <td>24783</td>\n",
       "    </tr>\n",
       "    <tr>\n",
       "      <th>24</th>\n",
       "      <td>1994</td>\n",
       "      <td>1944487.9</td>\n",
       "      <td>1895393.9</td>\n",
       "      <td>21805.8</td>\n",
       "      <td>27288.2</td>\n",
       "    </tr>\n",
       "    <tr>\n",
       "      <th>25</th>\n",
       "      <td>1993</td>\n",
       "      <td>1904271.2</td>\n",
       "      <td>1856567</td>\n",
       "      <td>21668.7</td>\n",
       "      <td>26035.5</td>\n",
       "    </tr>\n",
       "    <tr>\n",
       "      <th>26</th>\n",
       "      <td>1992</td>\n",
       "      <td>1898646.3</td>\n",
       "      <td>1847733.7</td>\n",
       "      <td>22295.1</td>\n",
       "      <td>28617.5</td>\n",
       "    </tr>\n",
       "    <tr>\n",
       "      <th>27</th>\n",
       "      <td>1991</td>\n",
       "      <td>1869872.6</td>\n",
       "      <td>1816612.6</td>\n",
       "      <td>23010.8</td>\n",
       "      <td>30249.2</td>\n",
       "    </tr>\n",
       "    <tr>\n",
       "      <th>28</th>\n",
       "      <td>1990</td>\n",
       "      <td>1839070.5</td>\n",
       "      <td>1785679.4</td>\n",
       "      <td>23220.8</td>\n",
       "      <td>30170.3</td>\n",
       "    </tr>\n",
       "    <tr>\n",
       "      <th>29</th>\n",
       "      <td>1989</td>\n",
       "      <td>1711617.1</td>\n",
       "      <td>1653612.5</td>\n",
       "      <td>23024.7</td>\n",
       "      <td>34979.9</td>\n",
       "    </tr>\n",
       "    <tr>\n",
       "      <th>30</th>\n",
       "      <td>1988</td>\n",
       "      <td>1621097</td>\n",
       "      <td>1559323.9</td>\n",
       "      <td>24087</td>\n",
       "      <td>37686.1</td>\n",
       "    </tr>\n",
       "    <tr>\n",
       "      <th>31</th>\n",
       "      <td>1987</td>\n",
       "      <td>1508834.2</td>\n",
       "      <td>1449237.2</td>\n",
       "      <td>25112.9</td>\n",
       "      <td>34484.1</td>\n",
       "    </tr>\n",
       "    <tr>\n",
       "      <th>32</th>\n",
       "      <td>1986</td>\n",
       "      <td>1441337.8</td>\n",
       "      <td>1382264.5</td>\n",
       "      <td>24569.6</td>\n",
       "      <td>34503.7</td>\n",
       "    </tr>\n",
       "    <tr>\n",
       "      <th>33</th>\n",
       "      <td>1985</td>\n",
       "      <td>1319654.9</td>\n",
       "      <td>1259370.5</td>\n",
       "      <td>23465.3</td>\n",
       "      <td>36819.1</td>\n",
       "    </tr>\n",
       "    <tr>\n",
       "      <th>34</th>\n",
       "      <td>1984</td>\n",
       "      <td>1334109.7</td>\n",
       "      <td>1272354.9</td>\n",
       "      <td>23906.4</td>\n",
       "      <td>37848.4</td>\n",
       "    </tr>\n",
       "    <tr>\n",
       "      <th>35</th>\n",
       "      <td>1983</td>\n",
       "      <td>1247780.3</td>\n",
       "      <td>1186245.9</td>\n",
       "      <td>22935.4</td>\n",
       "      <td>38599</td>\n",
       "    </tr>\n",
       "    <tr>\n",
       "      <th>36</th>\n",
       "      <td>1982</td>\n",
       "      <td>1208007.1</td>\n",
       "      <td>1130711.7</td>\n",
       "      <td>22334.8</td>\n",
       "      <td>54960.6</td>\n",
       "    </tr>\n",
       "    <tr>\n",
       "      <th>37</th>\n",
       "      <td>1981</td>\n",
       "      <td>1143795.9</td>\n",
       "      <td>1062762.3</td>\n",
       "      <td>22434.3</td>\n",
       "      <td>58599.3</td>\n",
       "    </tr>\n",
       "    <tr>\n",
       "      <th>38</th>\n",
       "      <td>1980</td>\n",
       "      <td>1065705.5</td>\n",
       "      <td>987597.5</td>\n",
       "      <td>22379.7</td>\n",
       "      <td>55728.3</td>\n",
       "    </tr>\n",
       "    <tr>\n",
       "      <th>39</th>\n",
       "      <td>1979</td>\n",
       "      <td>975438.7</td>\n",
       "      <td>890082.8</td>\n",
       "      <td>23483.6</td>\n",
       "      <td>61872.3</td>\n",
       "    </tr>\n",
       "    <tr>\n",
       "      <th>40</th>\n",
       "      <td>1978</td>\n",
       "      <td>969434.9</td>\n",
       "      <td>873768.8</td>\n",
       "      <td>27753.6</td>\n",
       "      <td>67912.5</td>\n",
       "    </tr>\n",
       "    <tr>\n",
       "      <th>41</th>\n",
       "      <td>1977</td>\n",
       "      <td>801170.7</td>\n",
       "      <td>695564</td>\n",
       "      <td>27713.3</td>\n",
       "      <td>77893.4</td>\n",
       "    </tr>\n",
       "    <tr>\n",
       "      <th>42</th>\n",
       "      <td>1976</td>\n",
       "      <td>780805.4</td>\n",
       "      <td>677220.7</td>\n",
       "      <td>27613.5</td>\n",
       "      <td>75971.2</td>\n",
       "    </tr>\n",
       "    <tr>\n",
       "      <th>43</th>\n",
       "      <td>1975</td>\n",
       "      <td>774395.1</td>\n",
       "      <td>673073</td>\n",
       "      <td>22572.4</td>\n",
       "      <td>78749.7</td>\n",
       "    </tr>\n",
       "    <tr>\n",
       "      <th>44</th>\n",
       "      <td>1974</td>\n",
       "      <td>601475.1</td>\n",
       "      <td>500248.1</td>\n",
       "      <td>21280.4</td>\n",
       "      <td>79946.6</td>\n",
       "    </tr>\n",
       "    <tr>\n",
       "      <th>45</th>\n",
       "      <td>1973</td>\n",
       "      <td>547897.5</td>\n",
       "      <td>440339</td>\n",
       "      <td>19065.8</td>\n",
       "      <td>88492.7</td>\n",
       "    </tr>\n",
       "    <tr>\n",
       "      <th>46</th>\n",
       "      <td>1972</td>\n",
       "      <td>572118.7</td>\n",
       "      <td>422011.1</td>\n",
       "      <td>59195.2</td>\n",
       "      <td>90912.4</td>\n",
       "    </tr>\n",
       "    <tr>\n",
       "      <th>47</th>\n",
       "      <td>1971</td>\n",
       "      <td>553865.5</td>\n",
       "      <td>408824</td>\n",
       "      <td>56997.2</td>\n",
       "      <td>88044.3</td>\n",
       "    </tr>\n",
       "    <tr>\n",
       "      <th>48</th>\n",
       "      <td>1970</td>\n",
       "      <td>512723.3</td>\n",
       "      <td>350031.6</td>\n",
       "      <td>55674.3</td>\n",
       "      <td>107017.4</td>\n",
       "    </tr>\n",
       "    <tr>\n",
       "      <th>49</th>\n",
       "      <td>1969</td>\n",
       "      <td>478751.3</td>\n",
       "      <td>292907.4</td>\n",
       "      <td>53740.3</td>\n",
       "      <td>132103.6</td>\n",
       "    </tr>\n",
       "    <tr>\n",
       "      <th>50</th>\n",
       "      <td>1968</td>\n",
       "      <td>442162.3</td>\n",
       "      <td>240240.2</td>\n",
       "      <td>52091.8</td>\n",
       "      <td>149830.3</td>\n",
       "    </tr>\n",
       "    <tr>\n",
       "      <th>51</th>\n",
       "      <td>1967</td>\n",
       "      <td>404979.9</td>\n",
       "      <td>198215</td>\n",
       "      <td>50447.5</td>\n",
       "      <td>156317.4</td>\n",
       "    </tr>\n",
       "    <tr>\n",
       "      <th>52</th>\n",
       "      <td>1966</td>\n",
       "      <td>379926.7</td>\n",
       "      <td>170756</td>\n",
       "      <td>48865</td>\n",
       "      <td>160305.7</td>\n",
       "    </tr>\n",
       "    <tr>\n",
       "      <th>53</th>\n",
       "      <td>1965</td>\n",
       "      <td>358968.6</td>\n",
       "      <td>139629.3</td>\n",
       "      <td>47148.5</td>\n",
       "      <td>172190.8</td>\n",
       "    </tr>\n",
       "  </tbody>\n",
       "</table>\n",
       "</div>"
      ],
      "text/plain": [
       "    year      total      wssum   indsum     afsum\n",
       "0   2018  1193013.5    1147881  41156.6    3975.9\n",
       "1   2017  1180821.4  1134417.6  42014.1    4389.7\n",
       "2   2016  1195490.5    1148549    42174    4767.5\n",
       "3   2015  1196002.8  1148640.8    41484      5878\n",
       "4   2014  1228788.9  1146887.5  73617.5    8283.9\n",
       "5   2013    1225790  1159791.8    59176    6822.2\n",
       "6   2012  1206223.1  1170889.4  24665.4   10668.3\n",
       "7   2011  1219352.3  1186877.9  24709.4      7765\n",
       "8   2010  1253669.2  1193486.4  50633.1    9549.7\n",
       "9   2009  1255249.6  1194154.2  46198.5   14896.9\n",
       "10  2008  1267909.6    1209030    42583   16296.6\n",
       "11  2007  1294042.5  1221306.5  47846.3   24889.7\n",
       "12  2006    1312215  1246887.4  49071.6     16256\n",
       "13  2005  1376206.5  1309186.6  49930.9     17089\n",
       "14  2004  1373856.3    1337512  17883.4   18460.9\n",
       "15  2003    1402144  1367071.8  17449.2     17623\n",
       "16  2002  1456227.8  1418946.7    17751   19530.1\n",
       "17  2001  1554158.2  1511796.1    18830   23532.1\n",
       "18  2000  1599779.9  1556407.1  19939.4   23433.4\n",
       "19  1999  1667133.5  1623231.5  19650.3   24251.7\n",
       "20  1998  1748540.4  1706345.4  18132.2   24062.8\n",
       "21  1997  1868830.1  1822165.4  20819.7     25845\n",
       "22  1996  1908470.7  1862770.9  21517.5   24182.3\n",
       "23  1995  1891333.5  1844748.3  21802.2     24783\n",
       "24  1994  1944487.9  1895393.9  21805.8   27288.2\n",
       "25  1993  1904271.2    1856567  21668.7   26035.5\n",
       "26  1992  1898646.3  1847733.7  22295.1   28617.5\n",
       "27  1991  1869872.6  1816612.6  23010.8   30249.2\n",
       "28  1990  1839070.5  1785679.4  23220.8   30170.3\n",
       "29  1989  1711617.1  1653612.5  23024.7   34979.9\n",
       "30  1988    1621097  1559323.9    24087   37686.1\n",
       "31  1987  1508834.2  1449237.2  25112.9   34484.1\n",
       "32  1986  1441337.8  1382264.5  24569.6   34503.7\n",
       "33  1985  1319654.9  1259370.5  23465.3   36819.1\n",
       "34  1984  1334109.7  1272354.9  23906.4   37848.4\n",
       "35  1983  1247780.3  1186245.9  22935.4     38599\n",
       "36  1982  1208007.1  1130711.7  22334.8   54960.6\n",
       "37  1981  1143795.9  1062762.3  22434.3   58599.3\n",
       "38  1980  1065705.5   987597.5  22379.7   55728.3\n",
       "39  1979   975438.7   890082.8  23483.6   61872.3\n",
       "40  1978   969434.9   873768.8  27753.6   67912.5\n",
       "41  1977   801170.7     695564  27713.3   77893.4\n",
       "42  1976   780805.4   677220.7  27613.5   75971.2\n",
       "43  1975   774395.1     673073  22572.4   78749.7\n",
       "44  1974   601475.1   500248.1  21280.4   79946.6\n",
       "45  1973   547897.5     440339  19065.8   88492.7\n",
       "46  1972   572118.7   422011.1  59195.2   90912.4\n",
       "47  1971   553865.5     408824  56997.2   88044.3\n",
       "48  1970   512723.3   350031.6  55674.3  107017.4\n",
       "49  1969   478751.3   292907.4  53740.3  132103.6\n",
       "50  1968   442162.3   240240.2  52091.8  149830.3\n",
       "51  1967   404979.9     198215  50447.5  156317.4\n",
       "52  1966   379926.7     170756    48865  160305.7\n",
       "53  1965   358968.6   139629.3  47148.5  172190.8"
      ]
     },
     "execution_count": 73,
     "metadata": {
      "tags": []
     },
     "output_type": "execute_result"
    }
   ],
   "source": [
    "seoul"
   ]
  },
  {
   "cell_type": "markdown",
   "metadata": {
    "id": "5vI5kRDFKMOA"
   },
   "source": [
    "5.2 admcd 변경"
   ]
  },
  {
   "cell_type": "code",
   "execution_count": null,
   "metadata": {
    "id": "EexAoSkAbzzV"
   },
   "outputs": [],
   "source": [
    "admcds = [11, 26, 27]\n",
    "\n",
    "df = []\n",
    "\n",
    "for admcd in admcds :\n",
    "    \n",
    "    url = f'http://www.wamis.go.kr:8080/wamis/openapi/wks/wks_wiawaa_lst?admcd={admcd}&output=json&key={api_key}'\n",
    "    res = requests.get(url)\n",
    "    data = res.json()\n",
    "    \n",
    "    for i in range(len(data['list'])) :\n",
    "        df.append([str(admcd), data['list'][i]['year'], data['list'][i]['total'], data['list'][i]['wssum'], data['list'][i]['indsum'], data['list'][i]['afsum']])\n",
    "\n",
    "wamis = pd.DataFrame(df, columns= ['admcd', 'year', 'total', 'wssum', 'indsum', 'afsum'])"
   ]
  },
  {
   "cell_type": "code",
   "execution_count": null,
   "metadata": {
    "colab": {
     "base_uri": "https://localhost:8080/",
     "height": 204
    },
    "id": "31kYzOKdynGi",
    "outputId": "dfd52d48-b3fd-4015-ef34-9e6315edf9c8"
   },
   "outputs": [
    {
     "data": {
      "text/html": [
       "<div>\n",
       "<style scoped>\n",
       "    .dataframe tbody tr th:only-of-type {\n",
       "        vertical-align: middle;\n",
       "    }\n",
       "\n",
       "    .dataframe tbody tr th {\n",
       "        vertical-align: top;\n",
       "    }\n",
       "\n",
       "    .dataframe thead th {\n",
       "        text-align: right;\n",
       "    }\n",
       "</style>\n",
       "<table border=\"1\" class=\"dataframe\">\n",
       "  <thead>\n",
       "    <tr style=\"text-align: right;\">\n",
       "      <th></th>\n",
       "      <th>admcd</th>\n",
       "      <th>year</th>\n",
       "      <th>total</th>\n",
       "      <th>wssum</th>\n",
       "      <th>indsum</th>\n",
       "      <th>afsum</th>\n",
       "    </tr>\n",
       "  </thead>\n",
       "  <tbody>\n",
       "    <tr>\n",
       "      <th>0</th>\n",
       "      <td>11</td>\n",
       "      <td>2018</td>\n",
       "      <td>1193013.5</td>\n",
       "      <td>1147881</td>\n",
       "      <td>41156.6</td>\n",
       "      <td>3975.9</td>\n",
       "    </tr>\n",
       "    <tr>\n",
       "      <th>1</th>\n",
       "      <td>11</td>\n",
       "      <td>2017</td>\n",
       "      <td>1180821.4</td>\n",
       "      <td>1134417.6</td>\n",
       "      <td>42014.1</td>\n",
       "      <td>4389.7</td>\n",
       "    </tr>\n",
       "    <tr>\n",
       "      <th>2</th>\n",
       "      <td>11</td>\n",
       "      <td>2016</td>\n",
       "      <td>1195490.5</td>\n",
       "      <td>1148549</td>\n",
       "      <td>42174</td>\n",
       "      <td>4767.5</td>\n",
       "    </tr>\n",
       "    <tr>\n",
       "      <th>3</th>\n",
       "      <td>11</td>\n",
       "      <td>2015</td>\n",
       "      <td>1196002.8</td>\n",
       "      <td>1148640.8</td>\n",
       "      <td>41484</td>\n",
       "      <td>5878</td>\n",
       "    </tr>\n",
       "    <tr>\n",
       "      <th>4</th>\n",
       "      <td>11</td>\n",
       "      <td>2014</td>\n",
       "      <td>1228788.9</td>\n",
       "      <td>1146887.5</td>\n",
       "      <td>73617.5</td>\n",
       "      <td>8283.9</td>\n",
       "    </tr>\n",
       "  </tbody>\n",
       "</table>\n",
       "</div>"
      ],
      "text/plain": [
       "  admcd  year      total      wssum   indsum   afsum\n",
       "0    11  2018  1193013.5    1147881  41156.6  3975.9\n",
       "1    11  2017  1180821.4  1134417.6  42014.1  4389.7\n",
       "2    11  2016  1195490.5    1148549    42174  4767.5\n",
       "3    11  2015  1196002.8  1148640.8    41484    5878\n",
       "4    11  2014  1228788.9  1146887.5  73617.5  8283.9"
      ]
     },
     "execution_count": 76,
     "metadata": {
      "tags": []
     },
     "output_type": "execute_result"
    }
   ],
   "source": [
    "wamis.head()"
   ]
  },
  {
   "cell_type": "code",
   "execution_count": null,
   "metadata": {
    "colab": {
     "base_uri": "https://localhost:8080/",
     "height": 204
    },
    "id": "x3UcevQ-pgJl",
    "outputId": "8b8ec5b2-6ec0-40c6-b15e-0d342cc9b9f0"
   },
   "outputs": [
    {
     "data": {
      "text/html": [
       "<div>\n",
       "<style scoped>\n",
       "    .dataframe tbody tr th:only-of-type {\n",
       "        vertical-align: middle;\n",
       "    }\n",
       "\n",
       "    .dataframe tbody tr th {\n",
       "        vertical-align: top;\n",
       "    }\n",
       "\n",
       "    .dataframe thead th {\n",
       "        text-align: right;\n",
       "    }\n",
       "</style>\n",
       "<table border=\"1\" class=\"dataframe\">\n",
       "  <thead>\n",
       "    <tr style=\"text-align: right;\">\n",
       "      <th></th>\n",
       "      <th>admcd</th>\n",
       "      <th>year</th>\n",
       "      <th>total</th>\n",
       "      <th>wssum</th>\n",
       "      <th>indsum</th>\n",
       "      <th>afsum</th>\n",
       "    </tr>\n",
       "  </thead>\n",
       "  <tbody>\n",
       "    <tr>\n",
       "      <th>157</th>\n",
       "      <td>27</td>\n",
       "      <td>1969</td>\n",
       "      <td>365577.4</td>\n",
       "      <td>65805.5</td>\n",
       "      <td>8070.2</td>\n",
       "      <td>291701.7</td>\n",
       "    </tr>\n",
       "    <tr>\n",
       "      <th>158</th>\n",
       "      <td>27</td>\n",
       "      <td>1968</td>\n",
       "      <td>350433</td>\n",
       "      <td>51958.1</td>\n",
       "      <td>7472.2</td>\n",
       "      <td>291002.7</td>\n",
       "    </tr>\n",
       "    <tr>\n",
       "      <th>159</th>\n",
       "      <td>27</td>\n",
       "      <td>1967</td>\n",
       "      <td>346116.9</td>\n",
       "      <td>40005.8</td>\n",
       "      <td>6873.7</td>\n",
       "      <td>299237.4</td>\n",
       "    </tr>\n",
       "    <tr>\n",
       "      <th>160</th>\n",
       "      <td>27</td>\n",
       "      <td>1966</td>\n",
       "      <td>324147.7</td>\n",
       "      <td>30925.4</td>\n",
       "      <td>6275.2</td>\n",
       "      <td>286947.1</td>\n",
       "    </tr>\n",
       "    <tr>\n",
       "      <th>161</th>\n",
       "      <td>27</td>\n",
       "      <td>1965</td>\n",
       "      <td>325126.9</td>\n",
       "      <td>23197.9</td>\n",
       "      <td>5677</td>\n",
       "      <td>296252</td>\n",
       "    </tr>\n",
       "  </tbody>\n",
       "</table>\n",
       "</div>"
      ],
      "text/plain": [
       "    admcd  year     total    wssum  indsum     afsum\n",
       "157    27  1969  365577.4  65805.5  8070.2  291701.7\n",
       "158    27  1968    350433  51958.1  7472.2  291002.7\n",
       "159    27  1967  346116.9  40005.8  6873.7  299237.4\n",
       "160    27  1966  324147.7  30925.4  6275.2  286947.1\n",
       "161    27  1965  325126.9  23197.9    5677    296252"
      ]
     },
     "execution_count": 77,
     "metadata": {
      "tags": []
     },
     "output_type": "execute_result"
    }
   ],
   "source": [
    "wamis.tail()"
   ]
  },
  {
   "cell_type": "code",
   "execution_count": null,
   "metadata": {
    "colab": {
     "base_uri": "https://localhost:8080/"
    },
    "id": "8soX1qjlM5iE",
    "outputId": "08e32cd7-aa88-427e-f45a-4a29e13b4b52"
   },
   "outputs": [
    {
     "name": "stdout",
     "output_type": "stream",
     "text": [
      "<class 'pandas.core.frame.DataFrame'>\n",
      "RangeIndex: 162 entries, 0 to 161\n",
      "Data columns (total 6 columns):\n",
      " #   Column  Non-Null Count  Dtype \n",
      "---  ------  --------------  ----- \n",
      " 0   admcd   162 non-null    object\n",
      " 1   year    162 non-null    object\n",
      " 2   total   162 non-null    object\n",
      " 3   wssum   162 non-null    object\n",
      " 4   indsum  162 non-null    object\n",
      " 5   afsum   162 non-null    object\n",
      "dtypes: object(6)\n",
      "memory usage: 7.7+ KB\n"
     ]
    }
   ],
   "source": [
    "wamis.info()"
   ]
  },
  {
   "cell_type": "code",
   "execution_count": null,
   "metadata": {
    "id": "r7l6e__Ve4eO"
   },
   "outputs": [],
   "source": [
    "wamis['admcd'] = wamis['admcd'].astype(int)\n",
    "wamis['year'] = wamis['year'].astype(int)"
   ]
  },
  {
   "cell_type": "code",
   "execution_count": null,
   "metadata": {
    "id": "PVUqWHTeeP9o"
   },
   "outputs": [],
   "source": [
    "wamis['total'] = wamis['total'].astype(float)\n",
    "wamis['wssum'] = wamis['wssum'].astype(float)\n",
    "wamis['indsum'] = wamis['indsum'].astype(float)\n",
    "wamis['afsum'] = wamis['afsum'].astype(float)"
   ]
  },
  {
   "cell_type": "code",
   "execution_count": null,
   "metadata": {
    "colab": {
     "base_uri": "https://localhost:8080/",
     "height": 235
    },
    "id": "y1yKvFj4M5kk",
    "outputId": "521cd709-82ab-44a9-a18a-9570fabb1f1f"
   },
   "outputs": [
    {
     "data": {
      "text/html": [
       "<div>\n",
       "<style scoped>\n",
       "    .dataframe tbody tr th:only-of-type {\n",
       "        vertical-align: middle;\n",
       "    }\n",
       "\n",
       "    .dataframe tbody tr th {\n",
       "        vertical-align: top;\n",
       "    }\n",
       "\n",
       "    .dataframe thead th {\n",
       "        text-align: right;\n",
       "    }\n",
       "</style>\n",
       "<table border=\"1\" class=\"dataframe\">\n",
       "  <thead>\n",
       "    <tr style=\"text-align: right;\">\n",
       "      <th></th>\n",
       "      <th>count</th>\n",
       "      <th>mean</th>\n",
       "      <th>std</th>\n",
       "      <th>min</th>\n",
       "      <th>25%</th>\n",
       "      <th>50%</th>\n",
       "      <th>75%</th>\n",
       "      <th>max</th>\n",
       "    </tr>\n",
       "  </thead>\n",
       "  <tbody>\n",
       "    <tr>\n",
       "      <th>admcd</th>\n",
       "      <td>162.00</td>\n",
       "      <td>21.33</td>\n",
       "      <td>7.34</td>\n",
       "      <td>11.00</td>\n",
       "      <td>11.00</td>\n",
       "      <td>26.00</td>\n",
       "      <td>27.00</td>\n",
       "      <td>27.00</td>\n",
       "    </tr>\n",
       "    <tr>\n",
       "      <th>year</th>\n",
       "      <td>162.00</td>\n",
       "      <td>1991.50</td>\n",
       "      <td>15.63</td>\n",
       "      <td>1965.00</td>\n",
       "      <td>1978.00</td>\n",
       "      <td>1991.50</td>\n",
       "      <td>2005.00</td>\n",
       "      <td>2018.00</td>\n",
       "    </tr>\n",
       "    <tr>\n",
       "      <th>total</th>\n",
       "      <td>162.00</td>\n",
       "      <td>753721.35</td>\n",
       "      <td>441355.71</td>\n",
       "      <td>255693.10</td>\n",
       "      <td>461153.90</td>\n",
       "      <td>577424.50</td>\n",
       "      <td>936159.45</td>\n",
       "      <td>1944487.90</td>\n",
       "    </tr>\n",
       "    <tr>\n",
       "      <th>wssum</th>\n",
       "      <td>162.00</td>\n",
       "      <td>590242.20</td>\n",
       "      <td>506628.38</td>\n",
       "      <td>23197.90</td>\n",
       "      <td>243161.67</td>\n",
       "      <td>399177.05</td>\n",
       "      <td>829217.60</td>\n",
       "      <td>1895393.90</td>\n",
       "    </tr>\n",
       "    <tr>\n",
       "      <th>indsum</th>\n",
       "      <td>162.00</td>\n",
       "      <td>33253.50</td>\n",
       "      <td>25081.85</td>\n",
       "      <td>0.00</td>\n",
       "      <td>13183.53</td>\n",
       "      <td>23996.70</td>\n",
       "      <td>51727.13</td>\n",
       "      <td>96004.80</td>\n",
       "    </tr>\n",
       "    <tr>\n",
       "      <th>afsum</th>\n",
       "      <td>162.00</td>\n",
       "      <td>130225.66</td>\n",
       "      <td>81578.73</td>\n",
       "      <td>3975.90</td>\n",
       "      <td>64802.77</td>\n",
       "      <td>130585.35</td>\n",
       "      <td>179104.17</td>\n",
       "      <td>307031.60</td>\n",
       "    </tr>\n",
       "  </tbody>\n",
       "</table>\n",
       "</div>"
      ],
      "text/plain": [
       "        count      mean       std  ...       50%       75%        max\n",
       "admcd  162.00     21.33      7.34  ...     26.00     27.00      27.00\n",
       "year   162.00   1991.50     15.63  ...   1991.50   2005.00    2018.00\n",
       "total  162.00 753721.35 441355.71  ... 577424.50 936159.45 1944487.90\n",
       "wssum  162.00 590242.20 506628.38  ... 399177.05 829217.60 1895393.90\n",
       "indsum 162.00  33253.50  25081.85  ...  23996.70  51727.13   96004.80\n",
       "afsum  162.00 130225.66  81578.73  ... 130585.35 179104.17  307031.60\n",
       "\n",
       "[6 rows x 8 columns]"
      ]
     },
     "execution_count": 81,
     "metadata": {
      "tags": []
     },
     "output_type": "execute_result"
    }
   ],
   "source": [
    "pd.options.display.float_format = '{:.2f}'.format\n",
    "wamis.describe().transpose()"
   ]
  },
  {
   "cell_type": "code",
   "execution_count": null,
   "metadata": {
    "colab": {
     "base_uri": "https://localhost:8080/"
    },
    "id": "QZe2zwGzM_47",
    "outputId": "e53458c6-01be-4399-83ea-1f4b8372c137"
   },
   "outputs": [
    {
     "data": {
      "text/plain": [
       "admcd     0\n",
       "year      0\n",
       "total     0\n",
       "wssum     0\n",
       "indsum    0\n",
       "afsum     0\n",
       "dtype: int64"
      ]
     },
     "execution_count": 82,
     "metadata": {
      "tags": []
     },
     "output_type": "execute_result"
    }
   ],
   "source": [
    "wamis.isnull().sum()"
   ]
  },
  {
   "cell_type": "code",
   "execution_count": null,
   "metadata": {
    "colab": {
     "base_uri": "https://localhost:8080/"
    },
    "id": "Pu7HAHn0MUaR",
    "outputId": "9fcfdfd0-6d0f-4aeb-f118-087e29dae95c"
   },
   "outputs": [
    {
     "data": {
      "text/plain": [
       "0    서울시\n",
       "1    서울시\n",
       "2    서울시\n",
       "3    서울시\n",
       "4    서울시\n",
       "Name: admcd, dtype: object"
      ]
     },
     "execution_count": 83,
     "metadata": {
      "tags": []
     },
     "output_type": "execute_result"
    }
   ],
   "source": [
    "wamis['admcd'].replace(11, '서울시').head()"
   ]
  },
  {
   "cell_type": "code",
   "execution_count": null,
   "metadata": {
    "id": "777oH1iZy0jy"
   },
   "outputs": [],
   "source": [
    "#paper, notebook, talk, poster \n",
    "import seaborn as sns\n",
    "\n",
    "sns.set_context('notebook')"
   ]
  },
  {
   "cell_type": "code",
   "execution_count": null,
   "metadata": {
    "colab": {
     "base_uri": "https://localhost:8080/",
     "height": 313
    },
    "id": "Insn93V2e_rE",
    "outputId": "08962b78-0c46-4470-c8a1-cc189c9b553a"
   },
   "outputs": [
    {
     "data": {
      "text/plain": [
       "<matplotlib.axes._subplots.AxesSubplot at 0x7f6056bffe50>"
      ]
     },
     "execution_count": 85,
     "metadata": {
      "tags": []
     },
     "output_type": "execute_result"
    },
    {
     "data": {
      "image/png": "[encoded data removed]",
      "text/plain": [
       "<Figure size 432x288 with 1 Axes>"
      ]
     },
     "metadata": {
      "needs_background": "light",
      "tags": []
     },
     "output_type": "display_data"
    }
   ],
   "source": [
    "sns.lineplot(data=wamis, x='year', y='total', hue='admcd', palette='Set1')"
   ]
  },
  {
   "cell_type": "code",
   "execution_count": null,
   "metadata": {
    "colab": {
     "base_uri": "https://localhost:8080/",
     "height": 313
    },
    "id": "TwCrA0ecfF9G",
    "outputId": "23599008-541b-4a03-b413-88f4c33b654f"
   },
   "outputs": [
    {
     "data": {
      "text/plain": [
       "<matplotlib.axes._subplots.AxesSubplot at 0x7f6047d66d90>"
      ]
     },
     "execution_count": 86,
     "metadata": {
      "tags": []
     },
     "output_type": "execute_result"
    },
    {
     "data": {
      "image/png": "[encoded data removed]",
      "text/plain": [
       "<Figure size 432x288 with 1 Axes>"
      ]
     },
     "metadata": {
      "needs_background": "light",
      "tags": []
     },
     "output_type": "display_data"
    }
   ],
   "source": [
    "sns.lineplot(data=wamis, x='year', y='wssum', hue='admcd', palette='Set1')"
   ]
  },
  {
   "cell_type": "code",
   "execution_count": null,
   "metadata": {
    "colab": {
     "base_uri": "https://localhost:8080/",
     "height": 304
    },
    "id": "1lNxGZnVfgxR",
    "outputId": "74d2f470-0d3c-4d8b-d6d0-575a5a9e9105"
   },
   "outputs": [
    {
     "data": {
      "text/plain": [
       "<matplotlib.axes._subplots.AxesSubplot at 0x7f604784f610>"
      ]
     },
     "execution_count": 87,
     "metadata": {
      "tags": []
     },
     "output_type": "execute_result"
    },
    {
     "data": {
      "image/png": "[encoded data removed]",
      "text/plain": [
       "<Figure size 432x288 with 1 Axes>"
      ]
     },
     "metadata": {
      "needs_background": "light",
      "tags": []
     },
     "output_type": "display_data"
    }
   ],
   "source": [
    "sns.lineplot(data=wamis, x='year', y='indsum', hue='admcd', palette='Set1')"
   ]
  },
  {
   "cell_type": "code",
   "execution_count": null,
   "metadata": {
    "colab": {
     "base_uri": "https://localhost:8080/",
     "height": 302
    },
    "id": "hb6GgSO9fj3d",
    "outputId": "2d10d353-d069-4652-ca96-c341c4bee546"
   },
   "outputs": [
    {
     "data": {
      "text/plain": [
       "<matplotlib.axes._subplots.AxesSubplot at 0x7f60477da210>"
      ]
     },
     "execution_count": 88,
     "metadata": {
      "tags": []
     },
     "output_type": "execute_result"
    },
    {
     "data": {
      "image/png": "[encoded data removed]",
      "text/plain": [
       "<Figure size 432x288 with 1 Axes>"
      ]
     },
     "metadata": {
      "needs_background": "light",
      "tags": []
     },
     "output_type": "display_data"
    }
   ],
   "source": [
    "sns.lineplot(data=wamis, x='year', y='afsum', hue='admcd', palette='Set1')"
   ]
  },
  {
   "cell_type": "code",
   "execution_count": null,
   "metadata": {
    "id": "FbEyc1UcfmsB"
   },
   "outputs": [],
   "source": []
  }
 ],
 "metadata": {
  "colab": {
   "collapsed_sections": [],
   "name": "충북대 강의자료_2차_output.ipynb",
   "provenance": []
  },
  "kernelspec": {
   "display_name": "Python 3",
   "language": "python",
   "name": "python3"
  },
  "language_info": {
   "codemirror_mode": {
    "name": "ipython",
    "version": 3
   },
   "file_extension": ".py",
   "mimetype": "text/x-python",
   "name": "python",
   "nbconvert_exporter": "python",
   "pygments_lexer": "ipython3",
   "version": "3.8.3"
  }
 },
 "nbformat": 4,
 "nbformat_minor": 1
}
