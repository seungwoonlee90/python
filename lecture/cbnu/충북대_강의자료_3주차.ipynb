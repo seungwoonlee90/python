{
 "cells": [
  {
   "cell_type": "code",
   "execution_count": 1,
   "metadata": {
    "id": "nPZ9PwEAFgA2"
   },
   "outputs": [],
   "source": [
    "import pandas as pd\n",
    "import time #시간 제어\n",
    "import os #운영체제 제어\n",
    "\n",
    "import pyautogui"
   ]
  },
  {
   "cell_type": "markdown",
   "metadata": {
    "id": "uBSUOmLrFgA3"
   },
   "source": [
    "## 마우스 자동화"
   ]
  },
  {
   "cell_type": "code",
   "execution_count": 2,
   "metadata": {
    "id": "tk35c3I-FgA4",
    "outputId": "3aa7975e-161d-484e-d3f9-a0d352fca7cd"
   },
   "outputs": [
    {
     "name": "stdout",
     "output_type": "stream",
     "text": [
      "Size(width=1440, height=900)\n"
     ]
    }
   ],
   "source": [
    "# 화면 전체 크기 확인하기\n",
    "print(pyautogui.size())"
   ]
  },
  {
   "cell_type": "code",
   "execution_count": 3,
   "metadata": {
    "id": "bsrEdzYnFgA4"
   },
   "outputs": [],
   "source": [
    "# 좌표 객체 얻기 \n",
    "position = pyautogui.position()"
   ]
  },
  {
   "cell_type": "code",
   "execution_count": 4,
   "metadata": {
    "id": "rfTBnnwLFgA5",
    "outputId": "6a5a1279-4b1d-44c0-a264-f87f6704174b"
   },
   "outputs": [
    {
     "name": "stdout",
     "output_type": "stream",
     "text": [
      "644\n",
      "324\n"
     ]
    }
   ],
   "source": [
    "# x, y 좌표\n",
    "print(position.x)\n",
    "print(position.y)"
   ]
  },
  {
   "cell_type": "code",
   "execution_count": 5,
   "metadata": {
    "id": "egVgQZ90FgA5"
   },
   "outputs": [],
   "source": [
    "# 마우스 이동 (x 좌표, y 좌표)\n",
    "pyautogui.moveTo(500, 500)"
   ]
  },
  {
   "cell_type": "code",
   "execution_count": 6,
   "metadata": {
    "id": "gMUDLgn1FgA5"
   },
   "outputs": [],
   "source": [
    "# 마우스 이동 (x 좌표, y 좌표 2초간)\n",
    "pyautogui.moveTo(100, 100, 2)  "
   ]
  },
  {
   "cell_type": "code",
   "execution_count": 7,
   "metadata": {
    "id": "KopnpbHPFgA5"
   },
   "outputs": [],
   "source": [
    "# 마우스 이동 ( 현재위치에서 )\n",
    "pyautogui.moveRel(200, 300, 2)"
   ]
  },
  {
   "cell_type": "code",
   "execution_count": 8,
   "metadata": {
    "id": "e9mwVFMzFgA6"
   },
   "outputs": [],
   "source": [
    "# 마우스 클릭\n",
    "pyautogui.click()"
   ]
  },
  {
   "cell_type": "code",
   "execution_count": 9,
   "metadata": {
    "id": "H058Mo6lFgA6"
   },
   "outputs": [],
   "source": [
    "# 2초 간격으로 2번 클릭\n",
    "pyautogui.click(clicks= 2, interval=2)"
   ]
  },
  {
   "cell_type": "code",
   "execution_count": 10,
   "metadata": {
    "id": "soNs4VJKFgA6"
   },
   "outputs": [],
   "source": [
    "# 더블 클릭\n",
    "pyautogui.doubleClick()"
   ]
  },
  {
   "cell_type": "code",
   "execution_count": 11,
   "metadata": {
    "id": "mkrZk_4PFgA6"
   },
   "outputs": [],
   "source": [
    "# 오른쪽 클릭\n",
    "pyautogui.click(button='right')"
   ]
  },
  {
   "cell_type": "code",
   "execution_count": 12,
   "metadata": {
    "id": "Llv3ITWcFgA7"
   },
   "outputs": [],
   "source": [
    "# 드래그하기\n",
    "pyautogui.dragTo(0, 300, button='left')"
   ]
  },
  {
   "cell_type": "code",
   "execution_count": 13,
   "metadata": {
    "id": "alkPbhjPFgA7"
   },
   "outputs": [],
   "source": [
    "# 드래그하기\n",
    "pyautogui.dragTo(0, 300, 3,button='left')"
   ]
  },
  {
   "cell_type": "code",
   "execution_count": 14,
   "metadata": {
    "id": "Og1x7TGOFgA7"
   },
   "outputs": [],
   "source": [
    "pyautogui.dragRel(50, 300, 1, button='left')"
   ]
  },
  {
   "cell_type": "markdown",
   "metadata": {
    "id": "Q1ygDbWpFgA7"
   },
   "source": [
    "## 키보드 자동화"
   ]
  },
  {
   "cell_type": "markdown",
   "metadata": {
    "id": "hYGPVYWdFgA7"
   },
   "source": [
    "https://pyautogui.readthedocs.io/en/latest/keyboard.html"
   ]
  },
  {
   "cell_type": "code",
   "execution_count": 15,
   "metadata": {
    "id": "nqT8RpKXFgA8"
   },
   "outputs": [],
   "source": [
    "pyautogui.click()\n",
    "pyautogui.write('hello world!') # 괄호 안의 문자를 타이핑 합니다."
   ]
  },
  {
   "cell_type": "code",
   "execution_count": 16,
   "metadata": {
    "id": "S6Yfu1FBFgA8"
   },
   "outputs": [],
   "source": [
    "pyautogui.click()\n",
    "pyautogui.write('hello world!', interval=0.25) # 각 문자를 0.25마다 타이핑합니다. "
   ]
  },
  {
   "cell_type": "code",
   "execution_count": 17,
   "metadata": {
    "id": "n7NZpLyiFgA8"
   },
   "outputs": [],
   "source": [
    "pyautogui.click()\n",
    "pyautogui.write('안녕하세요!')"
   ]
  },
  {
   "cell_type": "code",
   "execution_count": 18,
   "metadata": {
    "id": "gXlUcpSpFgA8"
   },
   "outputs": [],
   "source": [
    "import pyperclip\n",
    "\n",
    "pyperclip.copy(\"안녕하세요\") # 클립보드에 텍스트를 복사합니다. "
   ]
  },
  {
   "cell_type": "code",
   "execution_count": 19,
   "metadata": {
    "id": "BoziSwtjFgA8"
   },
   "outputs": [],
   "source": [
    "pyautogui.click()\n",
    "pyautogui.hotkey('ctrl', 'v') # 붙여넣기"
   ]
  },
  {
   "cell_type": "code",
   "execution_count": 20,
   "metadata": {
    "id": "PpxARTWbFgA8"
   },
   "outputs": [],
   "source": [
    "pyautogui.click()\n",
    "pyautogui.hotkey('delete')"
   ]
  },
  {
   "cell_type": "code",
   "execution_count": 21,
   "metadata": {
    "id": "N3Zz2MRlFgA8"
   },
   "outputs": [],
   "source": [
    "pyautogui.click()\n",
    "pyautogui.hotkey('backspace')"
   ]
  },
  {
   "cell_type": "code",
   "execution_count": 22,
   "metadata": {
    "id": "HLsTaofEFgA9"
   },
   "outputs": [],
   "source": [
    "pyautogui.press('down', presses=3)"
   ]
  },
  {
   "cell_type": "code",
   "execution_count": 23,
   "metadata": {
    "id": "tudZ2oYvFgA9"
   },
   "outputs": [],
   "source": [
    "pyautogui.press('up', presses=3)"
   ]
  },
  {
   "cell_type": "markdown",
   "metadata": {
    "id": "t-5XPtewFgA9"
   },
   "source": [
    "## OS Control"
   ]
  },
  {
   "cell_type": "code",
   "execution_count": null,
   "metadata": {
    "id": "FahACjA8FgA9",
    "outputId": "f213a0dd-9d1d-4f17-b5c1-0cdde55d948b"
   },
   "outputs": [],
   "source": [
    "os.getcwd() #현재 작업 디렉토리"
   ]
  },
  {
   "cell_type": "code",
   "execution_count": null,
   "metadata": {
    "id": "wzzSDbOZFgA9",
    "outputId": "c79bbbee-3065-40df-f3bc-acee0cf1a28e",
    "scrolled": true
   },
   "outputs": [],
   "source": [
    "os.listdir() #작업 디렉토리 내 파일 목록"
   ]
  },
  {
   "cell_type": "code",
   "execution_count": null,
   "metadata": {
    "id": "uqvzcyXeFgA9"
   },
   "outputs": [],
   "source": [
    "os.chdir(r'python\\FORTRAN 연계') #작업 디렉토리 변경"
   ]
  },
  {
   "cell_type": "markdown",
   "metadata": {
    "id": "g6pxHyfUFgA-"
   },
   "source": [
    "## FORTRAN 자동화\n",
    "- 해당 내용은 비공개 처리합니다"
   ]
  }
 ],
 "metadata": {
  "colab": {
   "name": "충북대_강의자료 3.ipynb",
   "provenance": []
  },
  "kernelspec": {
   "display_name": "Python 3",
   "language": "python",
   "name": "python3"
  },
  "language_info": {
   "codemirror_mode": {
    "name": "ipython",
    "version": 3
   },
   "file_extension": ".py",
   "mimetype": "text/x-python",
   "name": "python",
   "nbconvert_exporter": "python",
   "pygments_lexer": "ipython3",
   "version": "3.8.3"
  }
 },
 "nbformat": 4,
 "nbformat_minor": 1
}
